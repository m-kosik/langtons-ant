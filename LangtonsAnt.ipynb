{
 "cells": [
  {
   "cell_type": "code",
   "execution_count": 43,
   "metadata": {},
   "outputs": [],
   "source": [
    "'''\n",
    "Properties:\n",
    "grid: a two dimensional array of 1s and 0s (representing white and black cells respectively)\n",
    "column: horizontal position of ant,\n",
    "row: ant's vertical position,\n",
    "direction: ant's current direction (), should default to 0\n",
    "'''\n",
    "\n",
    "class Board():\n",
    "    def __init__(self, grid, column, row, direction):\n",
    "        self.grid = grid\n",
    "        self.column = column\n",
    "        self.row = row\n",
    "        self.direction = direction\n",
    "    \n",
    "    def make_one_turn(self):\n",
    "        self.move_ant()\n",
    "        self.set_new_direction()\n",
    "        self.change_color()\n",
    "              \n",
    "    def move_ant(self):\n",
    "        if self.direction == 'W':\n",
    "            self.column = self.column - 1\n",
    "        elif self.direction == 'E':\n",
    "            self.column = self.column + 1\n",
    "        elif self.direction == 'S':\n",
    "            self.row = self.row - 1\n",
    "        elif self.direction == 'N':\n",
    "            self.row = self.row + 1\n",
    "        else:\n",
    "            print('wrong direction (choose from \"W\",\"E\",\"S\",\"N\")')\n",
    "            \n",
    "    def set_new_direction(self):\n",
    "        directions_clockwise = {'W':'N', 'N':'E', 'E':'S', 'S':'W'}\n",
    "        directions_counterclockwise = {'W':'S', 'N':'W', 'E':'N', 'S':'E'}\n",
    "        if self.grid[self.row][self.column]:\n",
    "            self.direction = directions_clockwise[self.direction]\n",
    "        else:\n",
    "            self.direction = directions_counterclockwise[self.direction]\n",
    "        \n",
    "    def change_color(self):\n",
    "        self.grid[self.row][self.column] = int(not(self.grid[self.row][self.column]))"
   ]
  },
  {
   "cell_type": "code",
   "execution_count": 51,
   "metadata": {},
   "outputs": [
    {
     "name": "stdout",
     "output_type": "stream",
     "text": [
      "[[1 1]\n",
      " [1 1]]\n",
      "Go to: 0, 1.\n",
      "[[1 0]\n",
      " [1 1]]\n",
      "Continue in direction S\n",
      "*******************\n",
      "Go to: -1, 1.\n",
      "[[1 0]\n",
      " [1 0]]\n",
      "Continue in direction W\n",
      "*******************\n",
      "Go to: -1, 0.\n",
      "[[1 0]\n",
      " [0 0]]\n",
      "Continue in direction N\n",
      "*******************\n",
      "Go to: 0, 0.\n",
      "[[0 0]\n",
      " [0 0]]\n",
      "Continue in direction E\n",
      "*******************\n",
      "Go to: 0, 1.\n",
      "[[0 1]\n",
      " [0 0]]\n",
      "Continue in direction N\n",
      "*******************\n"
     ]
    }
   ],
   "source": [
    "import numpy as np\n",
    "\n",
    "iterations = 5\n",
    "one_grid = [[1,1],[1,1]]\n",
    "game = Board(one_grid,0,0,'E')\n",
    "print(np.array(game.grid))\n",
    "\n",
    "for n in range(iterations):\n",
    "    game.make_one_turn()\n",
    "    print(f'Go to: {game.row}, {game.column}.')\n",
    "    print(np.array(game.grid))\n",
    "    print(f'Continue in direction {game.direction}')\n",
    "    print('*******************')"
   ]
  }
 ],
 "metadata": {
  "kernelspec": {
   "display_name": "Python 3",
   "language": "python",
   "name": "python3"
  },
  "language_info": {
   "codemirror_mode": {
    "name": "ipython",
    "version": 3
   },
   "file_extension": ".py",
   "mimetype": "text/x-python",
   "name": "python",
   "nbconvert_exporter": "python",
   "pygments_lexer": "ipython3",
   "version": "3.8.5"
  }
 },
 "nbformat": 4,
 "nbformat_minor": 4
}
