{
 "cells": [
  {
   "cell_type": "markdown",
   "metadata": {},
   "source": [
    "### Langton's Ant\n",
    "Langton's ant is a two-dimensional Turing machine invented in the late 1980s. The ant starts out on a grid of black and white cells and follows a simple set of rules that has complex emergent behavior.\n",
    "\n",
    "#### Game setup\n",
    "Elements of the game:\n",
    "- grid: a two dimensional array of white and black cells represented by 0's (white) and 1's (black),\n",
    "- ant wih a defined position (row, column) and direction (west - \"W\", east - \"E\", south - \"S\", north - \"N\").\n",
    "\n",
    "#### Rules  \n",
    "The ant can travel in any of the four cardinal directions at each step it takes. The ant moves according to the rules below:  \n",
    "\n",
    "- At a white square (represented with 0), turn 90° right, flip the color of the square, and move forward one unit.\n",
    "- At a black square (represented with 1), turn 90° left, flip the color of the square, and move forward one unit.\n",
    "- The grid has no limits and therefore if the ant moves outside the borders, the grid is expanded with 0s, respectively maintaining the rectangle shape.\n",
    "\n",
    "\n",
    "One can divide each ant's turn into four actions:\n",
    "- Change direction\n",
    "- Change color tile\n",
    "- Move to new square\n",
    "- Expand board if needed\n",
    "\n",
    "At the first iteration the ant turns accordingly to which color it stands on initially (right if on white, left if on black), then changes the tile color and, finally, moves one step forward (expanding the board if needed). Then, the next iteration begins."
   ]
  },
  {
   "cell_type": "code",
   "execution_count": 212,
   "metadata": {},
   "outputs": [],
   "source": [
    "class AntGame():\n",
    "    def __init__(self, grid, column, row, direction):\n",
    "        self.grid = grid\n",
    "        self.column = column\n",
    "        self.row = row\n",
    "        self.direction = direction\n",
    "    \n",
    "    def make_one_turn(self):\n",
    "        self.set_new_direction()\n",
    "        self.change_color()\n",
    "        self.move_ant()\n",
    "        self.expand_board()\n",
    "              \n",
    "    def move_ant(self):\n",
    "        if self.direction == 'W':\n",
    "            self.column = self.column - 1\n",
    "        elif self.direction == 'E':\n",
    "            self.column = self.column + 1\n",
    "        elif self.direction == 'S':\n",
    "            self.row = self.row + 1\n",
    "        elif self.direction == 'N':\n",
    "            self.row = self.row - 1\n",
    "        else:\n",
    "            print('Wrong direction (choose from \"W\",\"E\",\"S\",\"N\").')\n",
    "            \n",
    "    def expand_board(self):\n",
    "        horizontal_size = len(self.grid[0])\n",
    "        vertical_size = len(self.grid)\n",
    "        \n",
    "        if self.column == -1:\n",
    "            self.grid = [[0] + row for row in self.grid]\n",
    "            self.column = 0\n",
    "        if self.column == horizontal_size:\n",
    "            self.grid = [row + [0] for row in self.grid]\n",
    "        if self.row == -1:\n",
    "            self.grid.insert(0,horizontal_size*[0])\n",
    "            self.row = 0\n",
    "        if self.row == vertical_size:\n",
    "            self.grid.append(horizontal_size*[0])\n",
    "            \n",
    "    def set_new_direction(self):\n",
    "        directions_counterclockwise = {'W':'N', 'N':'E', 'E':'S', 'S':'W'}\n",
    "        directions_clockwise = {'W':'S', 'N':'W', 'E':'N', 'S':'E'}\n",
    "        if self.grid[self.row][self.column]:\n",
    "            self.direction = directions_clockwise[self.direction]\n",
    "        else:\n",
    "            self.direction = directions_counterclockwise[self.direction]\n",
    "            \n",
    "    def change_color(self):\n",
    "        self.grid[self.row][self.column] = int(not(self.grid[self.row][self.column]))"
   ]
  },
  {
   "cell_type": "code",
   "execution_count": 213,
   "metadata": {},
   "outputs": [],
   "source": [
    "def plot_board_with_ant(game):\n",
    "    if game.direction == 'N':\n",
    "        ant_marker = \"^\"\n",
    "    elif game.direction == 'S':\n",
    "        ant_marker = \"v\"\n",
    "    elif game.direction == 'E':\n",
    "        ant_marker = \">\"\n",
    "    elif game.direction == 'W':\n",
    "        ant_marker = \"<\"\n",
    "    else:\n",
    "        ant_marker = 'X'\n",
    "        \n",
    "    fig = plt.subplots(figsize = [1,1])\n",
    "    plt.title('Initial board')\n",
    "    plt.imshow(game.grid, cmap = 'bone_r')\n",
    "    plt.scatter(game.column,game.row,marker=ant_marker,c='red',s=100)\n",
    "    plt.xticks([])\n",
    "    plt.yticks([])\n",
    "    plt.show()"
   ]
  },
  {
   "cell_type": "code",
   "execution_count": 214,
   "metadata": {},
   "outputs": [
    {
     "data": {
      "image/png": "[encoded data removed]",
      "text/plain": [
       "<Figure size 72x72 with 1 Axes>"
      ]
     },
     "metadata": {},
     "output_type": "display_data"
    },
    {
     "data": {
      "image/png": "[encoded data removed]",
      "text/plain": [
       "<Figure size 72x72 with 1 Axes>"
      ]
     },
     "metadata": {},
     "output_type": "display_data"
    },
    {
     "data": {
      "image/png": "[encoded data removed]",
      "text/plain": [
       "<Figure size 72x72 with 1 Axes>"
      ]
     },
     "metadata": {},
     "output_type": "display_data"
    },
    {
     "data": {
      "image/png": "[encoded data removed]",
      "text/plain": [
       "<Figure size 72x72 with 1 Axes>"
      ]
     },
     "metadata": {},
     "output_type": "display_data"
    },
    {
     "data": {
      "image/png": "[encoded data removed]",
      "text/plain": [
       "<Figure size 72x72 with 1 Axes>"
      ]
     },
     "metadata": {},
     "output_type": "display_data"
    },
    {
     "data": {
      "image/png": "[encoded data removed]",
      "text/plain": [
       "<Figure size 72x72 with 1 Axes>"
      ]
     },
     "metadata": {},
     "output_type": "display_data"
    },
    {
     "data": {
      "image/png": "[encoded data removed]",
      "text/plain": [
       "<Figure size 72x72 with 1 Axes>"
      ]
     },
     "metadata": {},
     "output_type": "display_data"
    },
    {
     "data": {
      "image/png": "[encoded data removed]",
      "text/plain": [
       "<Figure size 72x72 with 1 Axes>"
      ]
     },
     "metadata": {},
     "output_type": "display_data"
    },
    {
     "data": {
      "image/png": "[encoded data removed]",
      "text/plain": [
       "<Figure size 72x72 with 1 Axes>"
      ]
     },
     "metadata": {},
     "output_type": "display_data"
    },
    {
     "data": {
      "image/png": "[encoded data removed]",
      "text/plain": [
       "<Figure size 72x72 with 1 Axes>"
      ]
     },
     "metadata": {},
     "output_type": "display_data"
    }
   ],
   "source": [
    "import numpy as np\n",
    "import matplotlib.pyplot as plt\n",
    "\n",
    "iterations = 10\n",
    "one_grid = [[0]]\n",
    "game = AntGame(one_grid,0,0,'N')\n",
    "plot_board_with_ant(game)\n",
    "\n",
    "for n in range(1,iterations):\n",
    "    game.make_one_turn()\n",
    "    plot_board_with_ant(game)"
   ]
  },
  {
   "cell_type": "markdown",
   "metadata": {},
   "source": [
    "Now, let us make the ant move for a veeeery long time (iterations up to n = $10^{20}$).\n",
    "\n",
    "*Euler problem #349:*  \n",
    "Starting with a grid that is entirely white, how many squares are black after $10^{18}$ moves of the ant?"
   ]
  }
 ],
 "metadata": {
  "kernelspec": {
   "display_name": "Python 3",
   "language": "python",
   "name": "python3"
  },
  "language_info": {
   "codemirror_mode": {
    "name": "ipython",
    "version": 3
   },
   "file_extension": ".py",
   "mimetype": "text/x-python",
   "name": "python",
   "nbconvert_exporter": "python",
   "pygments_lexer": "ipython3",
   "version": "3.8.5"
  }
 },
 "nbformat": 4,
 "nbformat_minor": 4
}
