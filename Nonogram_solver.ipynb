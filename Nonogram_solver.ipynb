{
 "cells": [
  {
   "cell_type": "code",
   "execution_count": null,
   "metadata": {},
   "outputs": [],
   "source": [
    "class Nonogram:\n",
    "\n",
    "    def __init__(self, clues):\n",
    "        self.hor_clues = clues[0]\n",
    "        self.ver_clues = clues[1]\n",
    "        self.board = [[0 for i in range(5)] for j in range(5)]\n",
    "        \n",
    "    \n",
    "    def solve(self):\n",
    "    \n",
    "    \n",
    "    def tick_box():\n",
    "        "
   ]
  },
  {
   "cell_type": "code",
   "execution_count": null,
   "metadata": {},
   "outputs": [],
   "source": [
    "test.it('Test 1')\n",
    "clues = (((1, 1), (4,), (1, 1, 1), (3,), (1,)),\n",
    "          ((1,), (2,), (3,), (2, 1), (4,)))\n",
    "\n",
    "ans = ((0, 0, 1, 0, 0),\n",
    "       (1, 1, 0, 0, 0),\n",
    "       (0, 1, 1, 1, 0),\n",
    "       (1, 1, 0, 1, 0),\n",
    "       (0, 1, 1, 1, 1))\n",
    "\n",
    "test.assert_equals(Nonogram(clues).solve(), ans)\n",
    "\n",
    "\n",
    "test.it('Test 2')\n",
    "clues = (((1,), (3,), (1,), (3, 1), (3, 1)),\n",
    "          ((3,), (2,), (2, 2), (1,), (1, 2)))\n",
    "\n",
    "ans = ((0, 0, 1, 1, 1),\n",
    "       (0, 0, 0, 1, 1),\n",
    "       (1, 1, 0, 1, 1),\n",
    "       (0, 1, 0, 0, 0),\n",
    "       (0, 1, 0, 1, 1))\n",
    "\n",
    "test.assert_equals(Nonogram(clues).solve(), ans)\n",
    "\n",
    "\n",
    "test.it('Test 3')\n",
    "clues = (((3,), (2,), (1, 1), (2,), (4,)),\n",
    "          ((2,), (3, 1), (1, 2), (3,), (1,)))\n",
    "\n",
    "ans = ((1, 1, 0, 0, 0),\n",
    "       (1, 1, 1, 0, 1),\n",
    "       (1, 0, 0, 1, 1),\n",
    "       (0, 0, 1, 1, 1),\n",
    "       (0, 0, 0, 0, 1))\n",
    "\n",
    "test.assert_equals(Nonogram(clues).solve(), ans)"
   ]
  }
 ],
 "metadata": {
  "kernelspec": {
   "display_name": "Python 3",
   "language": "python",
   "name": "python3"
  },
  "language_info": {
   "codemirror_mode": {
    "name": "ipython",
    "version": 3
   },
   "file_extension": ".py",
   "mimetype": "text/x-python",
   "name": "python",
   "nbconvert_exporter": "python",
   "pygments_lexer": "ipython3",
   "version": "3.7.1"
  }
 },
 "nbformat": 4,
 "nbformat_minor": 2
}
