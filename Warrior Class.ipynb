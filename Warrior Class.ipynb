{
 "cells": [
  {
   "cell_type": "code",
   "execution_count": 1,
   "metadata": {},
   "outputs": [],
   "source": [
    "import math\n",
    "RankList = [\"Pushover\", \"Novice\", \"Fighter\", \n",
    "                \"Warrior\", \"Veteran\", \"Sage\", \n",
    "                \"Elite\", \"Conqueror\", \"Champion\", \n",
    "                \"Master\", \"Greatest\"]\n",
    "\n",
    "class Warrior():\n",
    "    def __init__(self):\n",
    "        self.experience = 100\n",
    "        self.level = 1\n",
    "        self.rank = RankList[0]\n",
    "        self.achievements = []\n",
    "        \n",
    "    def training(self, training):\n",
    "        if self.level >= training[2]: \n",
    "            self.experience += training[1]\n",
    "            if (self.experience > 10000): self.experience = 10000 \n",
    "            self.level = math.floor(self.experience / 100)\n",
    "            self.rank = RankList[math.floor(self.level/10)]\n",
    "            self.achievements.append(training[0])\n",
    "            return training[0]\n",
    "        else:\n",
    "            return \"Not strong enough\"\n",
    "    \n",
    "    def battle(self, enemy_level):\n",
    "        \n",
    "        if enemy_level not in range(1,101):\n",
    "            return \"Invalid level\"\n",
    "        \n",
    "        if (math.floor(self.level/10) < math.floor(enemy_level/10)) \\\n",
    "        and (self.level <= enemy_level-5):\n",
    "            return \"You've been defeated\"\n",
    "        \n",
    "        if self.level == enemy_level: \n",
    "            self.experience += 10\n",
    "            if (self.experience > 10000): self.experience = 10000 \n",
    "            self.level = math.floor(self.experience / 100)\n",
    "            self.rank = RankList[math.floor(self.level/10)]\n",
    "            return \"A good fight\"\n",
    "        \n",
    "        elif self.level == enemy_level + 1: \n",
    "            self.experience += 5\n",
    "            if (self.experience > 10000): self.experience = 10000 \n",
    "            self.level = math.floor(self.experience / 100)\n",
    "            self.rank = RankList[math.floor(self.level/10)]\n",
    "            return \"A good fight\" \n",
    "        \n",
    "        elif self.level >= enemy_level + 2: \n",
    "            return \"Easy fight\" \n",
    "        \n",
    "        elif self.level < enemy_level:\n",
    "            diff = enemy_level - self.level\n",
    "            self.experience += 20*diff*diff\n",
    "            if (self.experience > 10000): self.experience = 10000 \n",
    "            self.level = math.floor(self.experience / 100)\n",
    "            self.rank = RankList[math.floor(self.level/10)]\n",
    "            return \"An intense fight\"\n",
    "        \n",
    "        else:\n",
    "            return \"Not strong enough\"\n",
    "        \n",
    "            "
   ]
  },
  {
   "cell_type": "code",
   "execution_count": 2,
   "metadata": {},
   "outputs": [
    {
     "name": "stdout",
     "output_type": "stream",
     "text": [
      "1\n",
      "An intense fight\n",
      "An intense fight\n",
      "6\n",
      "You've been defeated\n",
      "hard workout\n",
      "86\n",
      "An intense fight\n",
      "90\n",
      "Master\n"
     ]
    }
   ],
   "source": [
    "bruce_lee = Warrior()\n",
    "print(bruce_lee.level)\n",
    "print(bruce_lee.battle(3))\n",
    "print(bruce_lee.battle(6))\n",
    "print(bruce_lee.level)\n",
    "print(bruce_lee.battle(90))\n",
    "print(bruce_lee.training(['hard workout', 8000, 2]))\n",
    "print(bruce_lee.level)\n",
    "print(bruce_lee.battle(90))\n",
    "print(bruce_lee.level)\n",
    "print(bruce_lee.rank)"
   ]
  },
  {
   "cell_type": "code",
   "execution_count": null,
   "metadata": {},
   "outputs": [],
   "source": []
  }
 ],
 "metadata": {
  "kernelspec": {
   "display_name": "Python 3",
   "language": "python",
   "name": "python3"
  },
  "language_info": {
   "codemirror_mode": {
    "name": "ipython",
    "version": 3
   },
   "file_extension": ".py",
   "mimetype": "text/x-python",
   "name": "python",
   "nbconvert_exporter": "python",
   "pygments_lexer": "ipython3",
   "version": "3.8.5"
  }
 },
 "nbformat": 4,
 "nbformat_minor": 2
}
