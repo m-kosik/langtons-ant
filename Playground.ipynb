{
 "cells": [
  {
   "cell_type": "code",
   "execution_count": 55,
   "metadata": {},
   "outputs": [
    {
     "name": "stdout",
     "output_type": "stream",
     "text": [
      "\n",
      "I want a nice hot string spanning over multiple lines,\n",
      "will I get one?\n",
      "Success.\n",
      "\n",
      "\n",
      "I WANT A NICE HOT STRING SPANNING OVER MULTIPLE LINES,\n",
      "WILL I GET ONE?\n",
      "SUCCESS.\n",
      "\n"
     ]
    }
   ],
   "source": [
    "vacation = '''\n",
    "I want a nice hot string spanning over multiple lines,\n",
    "will I get one?\n",
    "Success.\n",
    "'''\n",
    "print(vacation)\n",
    "print(vacation.upper())"
   ]
  },
  {
   "cell_type": "code",
   "execution_count": 3,
   "metadata": {},
   "outputs": [
    {
     "name": "stdout",
     "output_type": "stream",
     "text": [
      "[0, 1, 2, 3, 4, 5, 6, 7, 8, 9] [2, 3, 4, 5, 6, 7, 8, 9, 10, 11]\n"
     ]
    },
    {
     "data": {
      "text/plain": [
       "[4, 10, 20, 34, 52, 74, 100, 130, 164, 202]"
      ]
     },
     "execution_count": 3,
     "metadata": {},
     "output_type": "execute_result"
    }
   ],
   "source": [
    "my_a = list(range(10))\n",
    "my_b = list(range(2,12))\n",
    "print(my_a,my_b)\n",
    "\n",
    "total_induced_field = [a**2 + b**2 for (a,b) in zip(my_a, my_b)]\n",
    "total_induced_field"
   ]
  },
  {
   "cell_type": "code",
   "execution_count": 25,
   "metadata": {},
   "outputs": [
    {
     "name": "stdout",
     "output_type": "stream",
     "text": [
      "1000000\n"
     ]
    }
   ],
   "source": [
    "''' How lambda functions work - short version '''\n",
    "(lambda x: x**2)(3)"
   ]
  },
  {
   "cell_type": "code",
   "execution_count": 11,
   "metadata": {},
   "outputs": [
    {
     "name": "stdout",
     "output_type": "stream",
     "text": [
      "(1, 2, 3, 4, 5, 6, 7, 8, 9)\n"
     ]
    },
    {
     "data": {
      "text/plain": [
       "362880"
      ]
     },
     "execution_count": 11,
     "metadata": {},
     "output_type": "execute_result"
    }
   ],
   "source": [
    "''' Use the reduce function to multiply an arbitrary number of arguments '''\n",
    "\n",
    "from functools import reduce\n",
    "from operator import mul\n",
    "\n",
    "def multiply(*values):\n",
    "    print(values)\n",
    "    return reduce(mul, values)\n",
    "\n",
    "def factorial(n):\n",
    "    return multiply(*range(1,n+1))\n",
    "\n",
    "factorial(9)"
   ]
  },
  {
   "cell_type": "code",
   "execution_count": 4,
   "metadata": {},
   "outputs": [
    {
     "name": "stdout",
     "output_type": "stream",
     "text": [
      "['C:\\\\ProgramData\\\\Anaconda3\\\\lib\\\\site-packages\\\\numpy']\n",
      "['C:\\\\ProgramData\\\\Anaconda3\\\\lib\\\\site-packages\\\\matplotlib']\n",
      "55\n"
     ]
    },
    {
     "ename": "AttributeError",
     "evalue": "module 'my_modue' has no attribute '__path__'",
     "output_type": "error",
     "traceback": [
      "\u001b[1;31m---------------------------------------------------------------------------\u001b[0m",
      "\u001b[1;31mAttributeError\u001b[0m                            Traceback (most recent call last)",
      "\u001b[1;32m<ipython-input-4-46ea0d5a89da>\u001b[0m in \u001b[0;36m<module>\u001b[1;34m\u001b[0m\n\u001b[0;32m      8\u001b[0m \u001b[0mprint\u001b[0m\u001b[1;33m(\u001b[0m\u001b[0mmatplotlib\u001b[0m\u001b[1;33m.\u001b[0m\u001b[0m__path__\u001b[0m\u001b[1;33m)\u001b[0m\u001b[1;33m\u001b[0m\u001b[1;33m\u001b[0m\u001b[0m\n\u001b[0;32m      9\u001b[0m \u001b[1;32mimport\u001b[0m \u001b[0mmy_modue\u001b[0m\u001b[1;33m\u001b[0m\u001b[1;33m\u001b[0m\u001b[0m\n\u001b[1;32m---> 10\u001b[1;33m \u001b[0mmy_modue\u001b[0m\u001b[1;33m.\u001b[0m\u001b[0m__path__\u001b[0m\u001b[1;33m\u001b[0m\u001b[1;33m\u001b[0m\u001b[0m\n\u001b[0m",
      "\u001b[1;31mAttributeError\u001b[0m: module 'my_modue' has no attribute '__path__'"
     ]
    }
   ],
   "source": [
    "import math\n",
    "import numpy\n",
    "import sys\n",
    "sys.prefix\n",
    "sys.path\n",
    "import matplotlib\n",
    "print(numpy.__path__)"
   ]
  },
  {
   "cell_type": "code",
   "execution_count": 2,
   "metadata": {},
   "outputs": [
    {
     "data": {
      "text/plain": [
       "5"
      ]
     },
     "execution_count": 2,
     "metadata": {},
     "output_type": "execute_result"
    }
   ],
   "source": [
    "''' Created a directory (package) called mysweetpackage \n",
    "with a function 'adder' stored inside in the __init__.py file.\n",
    "Now I can call mysweetpackage.adder to access this function: '''\n",
    "\n",
    "import mysweetpackage\n",
    "mysweetpackage.__path__\n",
    "mysweetpackage.adder(2,3)\n"
   ]
  },
  {
   "cell_type": "code",
   "execution_count": 21,
   "metadata": {},
   "outputs": [],
   "source": [
    "'Create named tuples'\n",
    "Point2D = namedtuple('Point2D', 'x y')\n",
    "Pt3D = namedtuple('Point3D',['x','y','z'])"
   ]
  },
  {
   "cell_type": "code",
   "execution_count": 35,
   "metadata": {},
   "outputs": [
    {
     "name": "stdout",
     "output_type": "stream",
     "text": [
      "Point2D(x=2, y=3)\n",
      "OrderedDict([('x', 2), ('y', 3)])\n",
      "Point2D(x=10, y=3)\n",
      "Help on class Point2D in module __main__:\n",
      "\n",
      "class Point2D(builtins.tuple)\n",
      " |  Point2D(x, y)\n",
      " |  \n",
      " |  Point2D(x, y)\n",
      " |  \n",
      " |  Method resolution order:\n",
      " |      Point2D\n",
      " |      builtins.tuple\n",
      " |      builtins.object\n",
      " |  \n",
      " |  Methods defined here:\n",
      " |  \n",
      " |  __getnewargs__(self)\n",
      " |      Return self as a plain tuple.  Used by copy and pickle.\n",
      " |  \n",
      " |  __repr__(self)\n",
      " |      Return a nicely formatted representation string\n",
      " |  \n",
      " |  _asdict(self)\n",
      " |      Return a new OrderedDict which maps field names to their values.\n",
      " |  \n",
      " |  _replace(_self, **kwds)\n",
      " |      Return a new Point2D object replacing specified fields with new values\n",
      " |  \n",
      " |  ----------------------------------------------------------------------\n",
      " |  Class methods defined here:\n",
      " |  \n",
      " |  _make(iterable) from builtins.type\n",
      " |      Make a new Point2D object from a sequence or iterable\n",
      " |  \n",
      " |  ----------------------------------------------------------------------\n",
      " |  Static methods defined here:\n",
      " |  \n",
      " |  __new__(_cls, x, y)\n",
      " |      Create new instance of Point2D(x, y)\n",
      " |  \n",
      " |  ----------------------------------------------------------------------\n",
      " |  Data descriptors defined here:\n",
      " |  \n",
      " |  x\n",
      " |      Alias for field number 0\n",
      " |  \n",
      " |  y\n",
      " |      Alias for field number 1\n",
      " |  \n",
      " |  ----------------------------------------------------------------------\n",
      " |  Data and other attributes defined here:\n",
      " |  \n",
      " |  _fields = ('x', 'y')\n",
      " |  \n",
      " |  _fields_defaults = {}\n",
      " |  \n",
      " |  ----------------------------------------------------------------------\n",
      " |  Methods inherited from builtins.tuple:\n",
      " |  \n",
      " |  __add__(self, value, /)\n",
      " |      Return self+value.\n",
      " |  \n",
      " |  __contains__(self, key, /)\n",
      " |      Return key in self.\n",
      " |  \n",
      " |  __eq__(self, value, /)\n",
      " |      Return self==value.\n",
      " |  \n",
      " |  __ge__(self, value, /)\n",
      " |      Return self>=value.\n",
      " |  \n",
      " |  __getattribute__(self, name, /)\n",
      " |      Return getattr(self, name).\n",
      " |  \n",
      " |  __getitem__(self, key, /)\n",
      " |      Return self[key].\n",
      " |  \n",
      " |  __gt__(self, value, /)\n",
      " |      Return self>value.\n",
      " |  \n",
      " |  __hash__(self, /)\n",
      " |      Return hash(self).\n",
      " |  \n",
      " |  __iter__(self, /)\n",
      " |      Implement iter(self).\n",
      " |  \n",
      " |  __le__(self, value, /)\n",
      " |      Return self<=value.\n",
      " |  \n",
      " |  __len__(self, /)\n",
      " |      Return len(self).\n",
      " |  \n",
      " |  __lt__(self, value, /)\n",
      " |      Return self<value.\n",
      " |  \n",
      " |  __mul__(self, value, /)\n",
      " |      Return self*value.\n",
      " |  \n",
      " |  __ne__(self, value, /)\n",
      " |      Return self!=value.\n",
      " |  \n",
      " |  __rmul__(self, value, /)\n",
      " |      Return value*self.\n",
      " |  \n",
      " |  count(self, value, /)\n",
      " |      Return number of occurrences of value.\n",
      " |  \n",
      " |  index(self, value, start=0, stop=9223372036854775807, /)\n",
      " |      Return first index of value.\n",
      " |      \n",
      " |      Raises ValueError if the value is not present.\n",
      "\n"
     ]
    }
   ],
   "source": [
    "pt3 = Point2D(2,3)\n",
    "print(pt3)\n",
    "ddd = pt3._asdict()\n",
    "print(ddd)\n",
    "''' To change value of one coordinate :'''\n",
    "pt3 = Point2D(10,pt3.y)\n",
    "print(pt3)\n",
    "\n",
    "help(Point2D)"
   ]
  },
  {
   "cell_type": "code",
   "execution_count": 2,
   "metadata": {},
   "outputs": [
    {
     "name": "stdout",
     "output_type": "stream",
     "text": [
      "It is already the year 2021\n"
     ]
    }
   ],
   "source": [
    "''' The f method for printing out arguments! '''\n",
    "message_1 = \"It is already\"\n",
    "message_2 = 2021\n",
    "print(f'{message_1} the year {message_2}')\n"
   ]
  },
  {
   "cell_type": "code",
   "execution_count": 25,
   "metadata": {},
   "outputs": [
    {
     "name": "stdout",
     "output_type": "stream",
     "text": [
      "<function sum_of_three at 0x000001C3C140BAE8>\n"
     ]
    },
    {
     "data": {
      "text/plain": [
       "<method-wrapper '__repr__' of function object at 0x000001C3C140BAE8>"
      ]
     },
     "execution_count": 25,
     "metadata": {},
     "output_type": "execute_result"
    }
   ],
   "source": [
    "''' Adding properties to functions '''\n",
    "def sum_of_three(x,y,z):\n",
    "    return x+y+z\n",
    "\n",
    "sum_of_three.deep = \"Meaning of life is 42\"\n",
    "sum_of_three.deep\n",
    "\n",
    "sum_of_three.__str__ = 'BALBLA'\n",
    "print(sum_of_three)\n",
    "sum_of_three.__repr__"
   ]
  },
  {
   "cell_type": "code",
   "execution_count": 12,
   "metadata": {},
   "outputs": [
    {
     "name": "stdout",
     "output_type": "stream",
     "text": [
      "[5, 10, 1, 2, 15, 13, 25, 3, 7, 20, 30]\n"
     ]
    }
   ],
   "source": [
    "''' Randomize list using sorted'''\n",
    "import random\n",
    "my_list = [1, 2, 3, 5, 7, 10, 13, 15, 20, 25, 30]\n",
    "new_list = sorted(my_list, key = lambda x: random.random())\n",
    "print(new_list)"
   ]
  },
  {
   "cell_type": "code",
   "execution_count": 6,
   "metadata": {},
   "outputs": [
    {
     "name": "stdout",
     "output_type": "stream",
     "text": [
      "[1, 4, 9, 16]\n",
      "first iteration of list iterator\n",
      "1\n",
      "4\n",
      "9\n",
      "16\n",
      "second iteration of list iterator\n",
      "1\n",
      "4\n",
      "9\n",
      "16\n",
      "first iteration of map iterator:\n",
      "1\n",
      "4\n",
      "9\n",
      "16\n",
      "second iteration of map iterator:\n"
     ]
    }
   ],
   "source": [
    "''' Example that map generators get used up'''\n",
    "list_1 = [1,2,3,4]\n",
    "x = list(map(lambda x: x**2, list_1))\n",
    "print(x)\n",
    "\n",
    "print('first iteration of list iterator:')\n",
    "for a in x:\n",
    "    print(a)\n",
    "print('second iteration of list iterator:')\n",
    "for a in x:\n",
    "    print(a)\n",
    "\n",
    "\n",
    "y = map(lambda x: x**2, list_1)\n",
    "print('first iteration of map iterator:')\n",
    "for a in y:\n",
    "    print(a)\n",
    "print('second iteration of map iterator:')\n",
    "for a in y:\n",
    "    print(a)"
   ]
  },
  {
   "cell_type": "code",
   "execution_count": 8,
   "metadata": {},
   "outputs": [],
   "source": [
    "from time import perf_counter"
   ]
  },
  {
   "cell_type": "code",
   "execution_count": 18,
   "metadata": {},
   "outputs": [],
   "source": [
    "###### Timer using a class\n",
    "class Timer():\n",
    "    def __init__(self):\n",
    "        self.start = perf_counter()\n",
    "        \n",
    "    def __call__(self):\n",
    "        return perf_counter() - self.start\n",
    "    \n",
    "t1 = Timer()"
   ]
  },
  {
   "cell_type": "code",
   "execution_count": 23,
   "metadata": {},
   "outputs": [
    {
     "data": {
      "text/plain": [
       "9.332432599999947"
      ]
     },
     "execution_count": 23,
     "metadata": {},
     "output_type": "execute_result"
    }
   ],
   "source": [
    "t1()"
   ]
  },
  {
   "cell_type": "code",
   "execution_count": 10,
   "metadata": {},
   "outputs": [],
   "source": [
    "###### Timer using a closure\n",
    "\n",
    "def timer():\n",
    "    start = perf_counter()\n",
    "    def some_name():\n",
    "        return perf_counter() - start\n",
    "    return some_name\n",
    "t2 = timer()"
   ]
  },
  {
   "cell_type": "code",
   "execution_count": 17,
   "metadata": {},
   "outputs": [
    {
     "data": {
      "text/plain": [
       "5.9291844999999626"
      ]
     },
     "execution_count": 17,
     "metadata": {},
     "output_type": "execute_result"
    }
   ],
   "source": [
    "t2()"
   ]
  },
  {
   "cell_type": "code",
   "execution_count": 29,
   "metadata": {},
   "outputs": [],
   "source": [
    "class Pet():\n",
    "    \"\"\"\n",
    "    A class to store my imaginary pets\n",
    "    \"\"\"\n",
    "    def __init__(self, species, age, owner = \"Miriam\", **custom_attributes):\n",
    "        self.species = species\n",
    "        self.age = age\n",
    "        self.owner = owner\n",
    "        for attr_name, attr_value in custom_attributes.items():\n",
    "            setattr(self, attr_name, attr_value)\n",
    "        \n",
    "    def age_in_months(self):\n",
    "        return 12*self.age\n",
    "    \n",
    "    def is_adult(self):\n",
    "        return 'is' if self.age > 5 else 'is not'\n",
    "    \n",
    "    def __str__(self):\n",
    "        return \"Pet: {0} aged {1}\".format(self.species, self.age)\n",
    "    \n",
    "    def __repr__(self):\n",
    "        return \"Pet: {0} aged {1} at location {2}\".format(self.species, self.age, hex(id(self)))\n",
    "    \n"
   ]
  },
  {
   "cell_type": "code",
   "execution_count": 33,
   "metadata": {},
   "outputs": [
    {
     "name": "stdout",
     "output_type": "stream",
     "text": [
      "Pet: panda aged 2\n",
      "The panda is 2 years old which is 24 months and it is not an adult animal.\n",
      "All the things we know about panda: {'species': 'panda', 'age': 2, 'owner': 'Miriam', 'weight': 500, 'height': 1, 'fur': 'black-white'}\n"
     ]
    },
    {
     "data": {
      "text/plain": [
       "Pet: panda aged 2 at location 0x1fd4c652a90"
      ]
     },
     "execution_count": 33,
     "metadata": {},
     "output_type": "execute_result"
    }
   ],
   "source": [
    "panda = Pet('panda', 2, weight = 500, height = 1, fur = \"black-white\")\n",
    "print(panda)\n",
    "print('The panda is {0} years old which is {1} months and it {2} an adult animal.'\n",
    "      .format(panda.age, panda.age_in_months(), panda.is_adult() ))\n",
    "print(f'All the things we know about panda: {vars(panda)}')\n",
    "\n",
    "panda"
   ]
  },
  {
   "cell_type": "code",
   "execution_count": 14,
   "metadata": {},
   "outputs": [
    {
     "name": "stdout",
     "output_type": "stream",
     "text": [
      "My crazy monkey Chucky who is 5 years old\n"
     ]
    }
   ],
   "source": [
    "chuck = Pet('monkey', 5)\n",
    "print('My crazy {0} Chucky who is {1} years old'.format(chuck.species, chuck.age))"
   ]
  },
  {
   "cell_type": "code",
   "execution_count": 9,
   "metadata": {},
   "outputs": [
    {
     "name": "stdout",
     "output_type": "stream",
     "text": [
      "False\n",
      "abcdefghijklmnopqrstuvwxyzABCDEFGHIJKLMNOPQRSTUVWXYZ\n"
     ]
    }
   ],
   "source": [
    "print('A' > 'a')"
   ]
  },
  {
   "cell_type": "code",
   "execution_count": 54,
   "metadata": {},
   "outputs": [
    {
     "name": "stdout",
     "output_type": "stream",
     "text": [
      "What is capitalization?\n"
     ]
    }
   ],
   "source": [
    "aaa = 'what is capitalization?'\n",
    "print(aaa.capitalize())"
   ]
  },
  {
   "cell_type": "code",
   "execution_count": 56,
   "metadata": {},
   "outputs": [
    {
     "name": "stdout",
     "output_type": "stream",
     "text": [
      "My age is 100.00000 and yours is 5.000e+01\n"
     ]
    }
   ],
   "source": [
    "my_age = 100\n",
    "your_age = 50\n",
    "\n",
    "print('My age is {:2.5f} and yours is {:02.3e}'.format(my_age, your_age))"
   ]
  },
  {
   "cell_type": "code",
   "execution_count": 57,
   "metadata": {},
   "outputs": [
    {
     "name": "stdout",
     "output_type": "stream",
     "text": [
      "Tell me your name.\n",
      "Miriam\n",
      "Hello, Miriam. Please, give me two numbers.\n",
      "2\n",
      "4\n",
      "Their sum is: 6.0\n",
      "Do you care? Type 'yes' or 'no'\n",
      "no\n",
      "Goodbye, ignorant.\n"
     ]
    }
   ],
   "source": [
    "print('Tell me your name.')\n",
    "name = input()\n",
    "print('Hello, ' + name + '. Please, give me two numbers.')\n",
    "number_1 = input()\n",
    "number_2 = input()\n",
    "print('Their sum is: ' + str(float(number_1)+float(number_2)) )\n",
    "print('Do you care? Type \\'yes\\' or \\'no\\'')\n",
    "care = input()\n",
    "if care in ['yes','Yes','YES','yes.','Yes.']:\n",
    "    print('You\\'re welcome.')\n",
    "else:\n",
    "    print('Goodbye, ignorant.')"
   ]
  },
  {
   "cell_type": "code",
   "execution_count": 58,
   "metadata": {},
   "outputs": [
    {
     "name": "stdout",
     "output_type": "stream",
     "text": [
      "['this', 'is', 'a', 'very', 'nice', 'list']\n"
     ]
    }
   ],
   "source": [
    "nice_list = ['this','is','a','nice','list']\n",
    "nice_list.insert(3, 'very')\n",
    "print(nice_list)"
   ]
  },
  {
   "cell_type": "code",
   "execution_count": 76,
   "metadata": {},
   "outputs": [
    {
     "name": "stdout",
     "output_type": "stream",
     "text": [
      "[('apple', 5), ('orange', 3), ('banana', 2)]\n",
      "{}\n",
      "Zip object is an iterator and after one iteration into a list it's empty.\n",
      "You have to call it again to generate a new structure\n",
      "{'apple': 5, 'orange': 3, 'banana': 2}\n",
      "\n",
      "\n",
      "And a demo of how .items() works\n",
      "('apple', 5)\n",
      "('orange', 3)\n",
      "('banana', 2)\n"
     ]
    }
   ],
   "source": [
    "items = ['apple', 'orange', 'banana']\n",
    "quantity = [5,3,2]\n",
    "\n",
    "orders = zip(items,quantity)\n",
    "print(list(orders))\n",
    "print(dict(orders))\n",
    "print('''Zip object is an iterator and after one iteration into a list it\\'s empty.\n",
    "You have to call it again to generate a new structure''')\n",
    "orders = zip(items,quantity)\n",
    "print(dict(orders))\n",
    "my_dict = dict(zip(items, quantity))\n",
    "print('''\n",
    "\n",
    "And a demo of how .items() works''')\n",
    "for tuple in list(my_dict.items()):\n",
    "    print(tuple)"
   ]
  },
  {
   "cell_type": "code",
   "execution_count": 24,
   "metadata": {},
   "outputs": [
    {
     "name": "stdout",
     "output_type": "stream",
     "text": [
      "{1, 2, 3, 4}\n",
      "True\n",
      "True\n"
     ]
    }
   ],
   "source": [
    "a_new_set = {1,2,3,4}\n",
    "print(a_new_set)\n",
    "print(a_new_set.issubset(a_new_set))\n",
    "print(a_new_set.issuperset(a_new_set))"
   ]
  },
  {
   "cell_type": "code",
   "execution_count": 6,
   "metadata": {},
   "outputs": [
    {
     "data": {
      "text/plain": [
       "datetime.datetime(2020, 4, 25, 22, 46, 24, 404834)"
      ]
     },
     "execution_count": 6,
     "metadata": {},
     "output_type": "execute_result"
    }
   ],
   "source": [
    "import datetime \n",
    "datetime.datetime.now()"
   ]
  },
  {
   "cell_type": "code",
   "execution_count": 2,
   "metadata": {},
   "outputs": [],
   "source": [
    "from my_modue_2 import result2"
   ]
  },
  {
   "cell_type": "code",
   "execution_count": 4,
   "metadata": {},
   "outputs": [
    {
     "name": "stdout",
     "output_type": "stream",
     "text": [
      "[1 1 1]\n"
     ]
    }
   ],
   "source": [
    "import numpy as np\n",
    "my_array = np.array( [[1,1,1],[2,2,2],[3,3,3]] )\n",
    "print(my_array[:][0])"
   ]
  },
  {
   "cell_type": "code",
   "execution_count": 15,
   "metadata": {},
   "outputs": [
    {
     "name": "stdout",
     "output_type": "stream",
     "text": [
      "5.0\n",
      "5.0\n",
      "5.0\n"
     ]
    }
   ],
   "source": [
    "def convert_usd_to_aud(amount, rate):\n",
    "    return amount / rate\n",
    "\n",
    "def convert_and_sum_list(usd_list, rate=0.8):\n",
    "    total = 0\n",
    "    for amount in usd_list:\n",
    "        total += convert_usd_to_aud(amount, rate=rate)\n",
    "    return total\n",
    "\n",
    "print(convert_and_sum_list([1, 3]))\n",
    "\n",
    "def convert_and_sum_list_kwargs(usd_list, **kwargs):\n",
    "    total = 0\n",
    "    for amount in usd_list:\n",
    "        total += convert_usd_to_aud(amount, **kwargs)\n",
    "    return total\n",
    "\n",
    "print(convert_and_sum_list_kwargs([1, 3], rate=0.8))\n",
    "\n",
    "def convert_and_sum_list_args(usd_list, *args):\n",
    "    total = 0\n",
    "    for amount in usd_list:\n",
    "        total += convert_usd_to_aud(amount, *args)\n",
    "    return total\n",
    "\n",
    "print(convert_and_sum_list_args([1, 3], 0.8))"
   ]
  },
  {
   "cell_type": "code",
   "execution_count": 19,
   "metadata": {},
   "outputs": [
    {
     "name": "stdout",
     "output_type": "stream",
     "text": [
      "10\n",
      "9\n",
      "8\n",
      "7\n",
      "6\n",
      "5\n",
      "4\n",
      "3\n",
      "2\n",
      "1\n",
      "START\n"
     ]
    }
   ],
   "source": [
    "def countdown(number):\n",
    "    if number == 0:\n",
    "        print('START')\n",
    "    else:\n",
    "        print(number)\n",
    "        return countdown(number-1)\n",
    "        \n",
    "countdown(10)"
   ]
  },
  {
   "cell_type": "code",
   "execution_count": 65,
   "metadata": {},
   "outputs": [
    {
     "name": "stdout",
     "output_type": "stream",
     "text": [
      "3.840000135824084e-05\n",
      "4.600000102072954e-05\n"
     ]
    }
   ],
   "source": [
    "import time\n",
    "\n",
    "def factorial_iterative(n):\n",
    "    result = 1\n",
    "    for i in range(n):\n",
    "        result *= i + 1\n",
    "    return result\n",
    "\n",
    "def factorial_recursive(n):\n",
    "    if n == 1:\n",
    "        return 1\n",
    "    else:\n",
    "        return n * factorial_recursive(n - 1)\n",
    "\n",
    "start = time.perf_counter()\n",
    "f1 = factorial_iterative(100)\n",
    "#print(f1)\n",
    "fac_i100 = time.perf_counter() - start\n",
    "start2 = time.perf_counter()\n",
    "f2 = factorial_recursive(100)\n",
    "#print(f2)\n",
    "fac_r100 = time.perf_counter() - start2\n",
    "print(fac_i100)\n",
    "print(fac_r100)"
   ]
  },
  {
   "cell_type": "code",
   "execution_count": 1,
   "metadata": {},
   "outputs": [
    {
     "name": "stdout",
     "output_type": "stream",
     "text": [
      "[1, 2, 3, 4]\n"
     ]
    }
   ],
   "source": [
    "list1 = [1,2,3]\n",
    "list2=list1\n",
    "list1.append(4)\n",
    "print(list2)"
   ]
  },
  {
   "cell_type": "code",
   "execution_count": 3,
   "metadata": {},
   "outputs": [],
   "source": [
    "## MAKING A LOG FILE\n",
    "\n",
    "# This will open a file to write in it\n",
    "f = open('log.txt','w')\n",
    "\n",
    "for i in range(0,10):\n",
    "    f.write('THIS IS STEP' + str(i))\n",
    "    f.write(\"\\n\")\n",
    "f.close()"
   ]
  },
  {
   "cell_type": "code",
   "execution_count": 9,
   "metadata": {},
   "outputs": [
    {
     "name": "stdout",
     "output_type": "stream",
     "text": [
      ".........\n",
      "S1\n",
      "S1; S1, S2; 9\n",
      "S1\n",
      "S2\n",
      "9\n",
      ".........\n",
      "S2\n",
      "S2; S1, S3; 10\n",
      "S1\n",
      "S3\n",
      "10\n",
      ".........\n",
      "S3\n",
      "S3; S4, S3; 8\n",
      "S4\n",
      "S3\n",
      "8\n",
      ".........\n",
      "S4\n",
      "S4; S4, S1; 0\n",
      "S4\n",
      "S1\n",
      "0\n"
     ]
    }
   ],
   "source": [
    "instructions = \\\n",
    "'''S1; S1, S2; 9\n",
    "S2; S1, S3; 10\n",
    "S3; S4, S3; 8\n",
    "S4; S4, S1; 0'''\n",
    "\n",
    "for line in instructions.splitlines():\n",
    "    state = line.split('; ')[0]\n",
    "    print('.........')\n",
    "    print(state)\n",
    "    print(line)\n",
    "    next_if_input_0 = (line.split('; ')[1]).split(', ')[0]\n",
    "    print(next_if_input_0)\n",
    "    next_if_input_1 = (line.split('; ')[1]).split(', ')[1]\n",
    "    print(next_if_input_1)\n",
    "    output = line.split('; ')[2]\n",
    "    print(output)\n",
    "#             next_if_input_0, = (line.split(';')[1]).split(',')[1]\n",
    "#             state = str.split(';')[0]"
   ]
  },
  {
   "cell_type": "code",
   "execution_count": 4,
   "metadata": {},
   "outputs": [
    {
     "name": "stdout",
     "output_type": "stream",
     "text": [
      "10\n"
     ]
    },
    {
     "data": {
      "text/plain": [
       "240"
      ]
     },
     "execution_count": 4,
     "metadata": {},
     "output_type": "execute_result"
    }
   ],
   "source": [
    "a = 0b1010\n",
    "print(a)\n",
    "int(\"f0\",16)"
   ]
  },
  {
   "cell_type": "code",
   "execution_count": 25,
   "metadata": {},
   "outputs": [
    {
     "name": "stdout",
     "output_type": "stream",
     "text": [
      "0.00000000000000000000\n",
      "0.05000000000000000278\n",
      "0.10000000000000000555\n",
      "0.14999999999999999445\n",
      "0.20000000000000001110\n",
      "0.25000000000000000000\n",
      "0.29999999999999998890\n",
      "0.34999999999999997780\n",
      "0.40000000000000002220\n",
      "0.45000000000000001110\n",
      "0.50000000000000000000\n",
      "0.55000000000000004441\n",
      "0.59999999999999997780\n",
      "0.65000000000000002220\n",
      "0.69999999999999995559\n",
      "0.75000000000000000000\n",
      "0.80000000000000004441\n",
      "0.84999999999999997780\n",
      "0.90000000000000002220\n",
      "0.94999999999999995559\n"
     ]
    },
    {
     "data": {
      "text/plain": [
       "True"
      ]
     },
     "execution_count": 25,
     "metadata": {},
     "output_type": "execute_result"
    }
   ],
   "source": [
    "for i in range(20):\n",
    "    a = i/20\n",
    "    print('{:2.20f}'.format(a))\n",
    "    \n",
    "round(0.1 + 0.1 + 0.1, 5) == round(0.3, 5)"
   ]
  },
  {
   "cell_type": "code",
   "execution_count": 44,
   "metadata": {},
   "outputs": [
    {
     "name": "stdout",
     "output_type": "stream",
     "text": [
      "[('Red', 'Red', 'Red', 'Red'), ('Red', 'Red', 'Red', 'Blue'), ('Red', 'Red', 'Red', 'Green'), ('Red', 'Red', 'Red', 'Orange'), ('Red', 'Red', 'Red', 'Purple'), ('Red', 'Red', 'Red', 'Yellow'), ('Red', 'Red', 'Blue', 'Red'), ('Red', 'Red', 'Blue', 'Blue'), ('Red', 'Red', 'Blue', 'Green'), ('Red', 'Red', 'Blue', 'Orange'), ('Red', 'Red', 'Blue', 'Purple'), ('Red', 'Red', 'Blue', 'Yellow'), ('Red', 'Red', 'Green', 'Red'), ('Red', 'Red', 'Green', 'Blue'), ('Red', 'Red', 'Green', 'Green'), ('Red', 'Red', 'Green', 'Orange'), ('Red', 'Red', 'Green', 'Purple'), ('Red', 'Red', 'Green', 'Yellow'), ('Red', 'Red', 'Orange', 'Red'), ('Red', 'Red', 'Orange', 'Blue'), ('Red', 'Red', 'Orange', 'Green'), ('Red', 'Red', 'Orange', 'Orange'), ('Red', 'Red', 'Orange', 'Purple'), ('Red', 'Red', 'Orange', 'Yellow'), ('Red', 'Red', 'Purple', 'Red'), ('Red', 'Red', 'Purple', 'Blue'), ('Red', 'Red', 'Purple', 'Green'), ('Red', 'Red', 'Purple', 'Orange'), ('Red', 'Red', 'Purple', 'Purple'), ('Red', 'Red', 'Purple', 'Yellow'), ('Red', 'Red', 'Yellow', 'Red'), ('Red', 'Red', 'Yellow', 'Blue'), ('Red', 'Red', 'Yellow', 'Green'), ('Red', 'Red', 'Yellow', 'Orange'), ('Red', 'Red', 'Yellow', 'Purple'), ('Red', 'Red', 'Yellow', 'Yellow'), ('Red', 'Blue', 'Red', 'Red'), ('Red', 'Blue', 'Red', 'Blue'), ('Red', 'Blue', 'Red', 'Green'), ('Red', 'Blue', 'Red', 'Orange'), ('Red', 'Blue', 'Red', 'Purple'), ('Red', 'Blue', 'Red', 'Yellow'), ('Red', 'Blue', 'Blue', 'Red'), ('Red', 'Blue', 'Blue', 'Blue'), ('Red', 'Blue', 'Blue', 'Green'), ('Red', 'Blue', 'Blue', 'Orange'), ('Red', 'Blue', 'Blue', 'Purple'), ('Red', 'Blue', 'Blue', 'Yellow'), ('Red', 'Blue', 'Green', 'Red'), ('Red', 'Blue', 'Green', 'Blue'), ('Red', 'Blue', 'Green', 'Green'), ('Red', 'Blue', 'Green', 'Orange'), ('Red', 'Blue', 'Green', 'Purple'), ('Red', 'Blue', 'Green', 'Yellow'), ('Red', 'Blue', 'Orange', 'Red'), ('Red', 'Blue', 'Orange', 'Blue'), ('Red', 'Blue', 'Orange', 'Green'), ('Red', 'Blue', 'Orange', 'Orange'), ('Red', 'Blue', 'Orange', 'Purple'), ('Red', 'Blue', 'Orange', 'Yellow'), ('Red', 'Blue', 'Purple', 'Red'), ('Red', 'Blue', 'Purple', 'Blue'), ('Red', 'Blue', 'Purple', 'Green'), ('Red', 'Blue', 'Purple', 'Orange'), ('Red', 'Blue', 'Purple', 'Purple'), ('Red', 'Blue', 'Purple', 'Yellow'), ('Red', 'Blue', 'Yellow', 'Red'), ('Red', 'Blue', 'Yellow', 'Blue'), ('Red', 'Blue', 'Yellow', 'Green'), ('Red', 'Blue', 'Yellow', 'Orange'), ('Red', 'Blue', 'Yellow', 'Purple'), ('Red', 'Blue', 'Yellow', 'Yellow'), ('Red', 'Green', 'Red', 'Red'), ('Red', 'Green', 'Red', 'Blue'), ('Red', 'Green', 'Red', 'Green'), ('Red', 'Green', 'Red', 'Orange'), ('Red', 'Green', 'Red', 'Purple'), ('Red', 'Green', 'Red', 'Yellow'), ('Red', 'Green', 'Blue', 'Red'), ('Red', 'Green', 'Blue', 'Blue'), ('Red', 'Green', 'Blue', 'Green'), ('Red', 'Green', 'Blue', 'Orange'), ('Red', 'Green', 'Blue', 'Purple'), ('Red', 'Green', 'Blue', 'Yellow'), ('Red', 'Green', 'Green', 'Red'), ('Red', 'Green', 'Green', 'Blue'), ('Red', 'Green', 'Green', 'Green'), ('Red', 'Green', 'Green', 'Orange'), ('Red', 'Green', 'Green', 'Purple'), ('Red', 'Green', 'Green', 'Yellow'), ('Red', 'Green', 'Orange', 'Red'), ('Red', 'Green', 'Orange', 'Blue'), ('Red', 'Green', 'Orange', 'Green'), ('Red', 'Green', 'Orange', 'Orange'), ('Red', 'Green', 'Orange', 'Purple'), ('Red', 'Green', 'Orange', 'Yellow'), ('Red', 'Green', 'Purple', 'Red'), ('Red', 'Green', 'Purple', 'Blue'), ('Red', 'Green', 'Purple', 'Green'), ('Red', 'Green', 'Purple', 'Orange'), ('Red', 'Green', 'Purple', 'Purple'), ('Red', 'Green', 'Purple', 'Yellow'), ('Red', 'Green', 'Yellow', 'Red'), ('Red', 'Green', 'Yellow', 'Blue'), ('Red', 'Green', 'Yellow', 'Green'), ('Red', 'Green', 'Yellow', 'Orange'), ('Red', 'Green', 'Yellow', 'Purple'), ('Red', 'Green', 'Yellow', 'Yellow'), ('Red', 'Orange', 'Red', 'Red'), ('Red', 'Orange', 'Red', 'Blue'), ('Red', 'Orange', 'Red', 'Green'), ('Red', 'Orange', 'Red', 'Orange'), ('Red', 'Orange', 'Red', 'Purple'), ('Red', 'Orange', 'Red', 'Yellow'), ('Red', 'Orange', 'Blue', 'Red'), ('Red', 'Orange', 'Blue', 'Blue'), ('Red', 'Orange', 'Blue', 'Green'), ('Red', 'Orange', 'Blue', 'Orange'), ('Red', 'Orange', 'Blue', 'Purple'), ('Red', 'Orange', 'Blue', 'Yellow'), ('Red', 'Orange', 'Green', 'Red'), ('Red', 'Orange', 'Green', 'Blue'), ('Red', 'Orange', 'Green', 'Green'), ('Red', 'Orange', 'Green', 'Orange'), ('Red', 'Orange', 'Green', 'Purple'), ('Red', 'Orange', 'Green', 'Yellow'), ('Red', 'Orange', 'Orange', 'Red'), ('Red', 'Orange', 'Orange', 'Blue'), ('Red', 'Orange', 'Orange', 'Green'), ('Red', 'Orange', 'Orange', 'Orange'), ('Red', 'Orange', 'Orange', 'Purple'), ('Red', 'Orange', 'Orange', 'Yellow'), ('Red', 'Orange', 'Purple', 'Red'), ('Red', 'Orange', 'Purple', 'Blue'), ('Red', 'Orange', 'Purple', 'Green'), ('Red', 'Orange', 'Purple', 'Orange'), ('Red', 'Orange', 'Purple', 'Purple'), ('Red', 'Orange', 'Purple', 'Yellow'), ('Red', 'Orange', 'Yellow', 'Red'), ('Red', 'Orange', 'Yellow', 'Blue'), ('Red', 'Orange', 'Yellow', 'Green'), ('Red', 'Orange', 'Yellow', 'Orange'), ('Red', 'Orange', 'Yellow', 'Purple'), ('Red', 'Orange', 'Yellow', 'Yellow'), ('Red', 'Purple', 'Red', 'Red'), ('Red', 'Purple', 'Red', 'Blue'), ('Red', 'Purple', 'Red', 'Green'), ('Red', 'Purple', 'Red', 'Orange'), ('Red', 'Purple', 'Red', 'Purple'), ('Red', 'Purple', 'Red', 'Yellow'), ('Red', 'Purple', 'Blue', 'Red'), ('Red', 'Purple', 'Blue', 'Blue'), ('Red', 'Purple', 'Blue', 'Green'), ('Red', 'Purple', 'Blue', 'Orange'), ('Red', 'Purple', 'Blue', 'Purple'), ('Red', 'Purple', 'Blue', 'Yellow'), ('Red', 'Purple', 'Green', 'Red'), ('Red', 'Purple', 'Green', 'Blue'), ('Red', 'Purple', 'Green', 'Green'), ('Red', 'Purple', 'Green', 'Orange'), ('Red', 'Purple', 'Green', 'Purple'), ('Red', 'Purple', 'Green', 'Yellow'), ('Red', 'Purple', 'Orange', 'Red'), ('Red', 'Purple', 'Orange', 'Blue'), ('Red', 'Purple', 'Orange', 'Green'), ('Red', 'Purple', 'Orange', 'Orange'), ('Red', 'Purple', 'Orange', 'Purple'), ('Red', 'Purple', 'Orange', 'Yellow'), ('Red', 'Purple', 'Purple', 'Red'), ('Red', 'Purple', 'Purple', 'Blue'), ('Red', 'Purple', 'Purple', 'Green'), ('Red', 'Purple', 'Purple', 'Orange'), ('Red', 'Purple', 'Purple', 'Purple'), ('Red', 'Purple', 'Purple', 'Yellow'), ('Red', 'Purple', 'Yellow', 'Red'), ('Red', 'Purple', 'Yellow', 'Blue'), ('Red', 'Purple', 'Yellow', 'Green'), ('Red', 'Purple', 'Yellow', 'Orange'), ('Red', 'Purple', 'Yellow', 'Purple'), ('Red', 'Purple', 'Yellow', 'Yellow'), ('Red', 'Yellow', 'Red', 'Red'), ('Red', 'Yellow', 'Red', 'Blue'), ('Red', 'Yellow', 'Red', 'Green'), ('Red', 'Yellow', 'Red', 'Orange'), ('Red', 'Yellow', 'Red', 'Purple'), ('Red', 'Yellow', 'Red', 'Yellow'), ('Red', 'Yellow', 'Blue', 'Red'), ('Red', 'Yellow', 'Blue', 'Blue'), ('Red', 'Yellow', 'Blue', 'Green'), ('Red', 'Yellow', 'Blue', 'Orange'), ('Red', 'Yellow', 'Blue', 'Purple'), ('Red', 'Yellow', 'Blue', 'Yellow'), ('Red', 'Yellow', 'Green', 'Red'), ('Red', 'Yellow', 'Green', 'Blue'), ('Red', 'Yellow', 'Green', 'Green'), ('Red', 'Yellow', 'Green', 'Orange'), ('Red', 'Yellow', 'Green', 'Purple'), ('Red', 'Yellow', 'Green', 'Yellow'), ('Red', 'Yellow', 'Orange', 'Red'), ('Red', 'Yellow', 'Orange', 'Blue'), ('Red', 'Yellow', 'Orange', 'Green'), ('Red', 'Yellow', 'Orange', 'Orange'), ('Red', 'Yellow', 'Orange', 'Purple'), ('Red', 'Yellow', 'Orange', 'Yellow'), ('Red', 'Yellow', 'Purple', 'Red'), ('Red', 'Yellow', 'Purple', 'Blue'), ('Red', 'Yellow', 'Purple', 'Green'), ('Red', 'Yellow', 'Purple', 'Orange'), ('Red', 'Yellow', 'Purple', 'Purple'), ('Red', 'Yellow', 'Purple', 'Yellow'), ('Red', 'Yellow', 'Yellow', 'Red'), ('Red', 'Yellow', 'Yellow', 'Blue'), ('Red', 'Yellow', 'Yellow', 'Green'), ('Red', 'Yellow', 'Yellow', 'Orange'), ('Red', 'Yellow', 'Yellow', 'Purple'), ('Red', 'Yellow', 'Yellow', 'Yellow'), ('Blue', 'Red', 'Red', 'Red'), ('Blue', 'Red', 'Red', 'Blue'), ('Blue', 'Red', 'Red', 'Green'), ('Blue', 'Red', 'Red', 'Orange'), ('Blue', 'Red', 'Red', 'Purple'), ('Blue', 'Red', 'Red', 'Yellow'), ('Blue', 'Red', 'Blue', 'Red'), ('Blue', 'Red', 'Blue', 'Blue'), ('Blue', 'Red', 'Blue', 'Green'), ('Blue', 'Red', 'Blue', 'Orange'), ('Blue', 'Red', 'Blue', 'Purple'), ('Blue', 'Red', 'Blue', 'Yellow'), ('Blue', 'Red', 'Green', 'Red'), ('Blue', 'Red', 'Green', 'Blue'), ('Blue', 'Red', 'Green', 'Green'), ('Blue', 'Red', 'Green', 'Orange'), ('Blue', 'Red', 'Green', 'Purple'), ('Blue', 'Red', 'Green', 'Yellow'), ('Blue', 'Red', 'Orange', 'Red'), ('Blue', 'Red', 'Orange', 'Blue'), ('Blue', 'Red', 'Orange', 'Green'), ('Blue', 'Red', 'Orange', 'Orange'), ('Blue', 'Red', 'Orange', 'Purple'), ('Blue', 'Red', 'Orange', 'Yellow'), ('Blue', 'Red', 'Purple', 'Red'), ('Blue', 'Red', 'Purple', 'Blue'), ('Blue', 'Red', 'Purple', 'Green'), ('Blue', 'Red', 'Purple', 'Orange'), ('Blue', 'Red', 'Purple', 'Purple'), ('Blue', 'Red', 'Purple', 'Yellow'), ('Blue', 'Red', 'Yellow', 'Red'), ('Blue', 'Red', 'Yellow', 'Blue'), ('Blue', 'Red', 'Yellow', 'Green'), ('Blue', 'Red', 'Yellow', 'Orange'), ('Blue', 'Red', 'Yellow', 'Purple'), ('Blue', 'Red', 'Yellow', 'Yellow'), ('Blue', 'Blue', 'Red', 'Red'), ('Blue', 'Blue', 'Red', 'Blue'), ('Blue', 'Blue', 'Red', 'Green'), ('Blue', 'Blue', 'Red', 'Orange'), ('Blue', 'Blue', 'Red', 'Purple'), ('Blue', 'Blue', 'Red', 'Yellow'), ('Blue', 'Blue', 'Blue', 'Red'), ('Blue', 'Blue', 'Blue', 'Blue'), ('Blue', 'Blue', 'Blue', 'Green'), ('Blue', 'Blue', 'Blue', 'Orange'), ('Blue', 'Blue', 'Blue', 'Purple'), ('Blue', 'Blue', 'Blue', 'Yellow'), ('Blue', 'Blue', 'Green', 'Red'), ('Blue', 'Blue', 'Green', 'Blue'), ('Blue', 'Blue', 'Green', 'Green'), ('Blue', 'Blue', 'Green', 'Orange'), ('Blue', 'Blue', 'Green', 'Purple'), ('Blue', 'Blue', 'Green', 'Yellow'), ('Blue', 'Blue', 'Orange', 'Red'), ('Blue', 'Blue', 'Orange', 'Blue'), ('Blue', 'Blue', 'Orange', 'Green'), ('Blue', 'Blue', 'Orange', 'Orange'), ('Blue', 'Blue', 'Orange', 'Purple'), ('Blue', 'Blue', 'Orange', 'Yellow'), ('Blue', 'Blue', 'Purple', 'Red'), ('Blue', 'Blue', 'Purple', 'Blue'), ('Blue', 'Blue', 'Purple', 'Green'), ('Blue', 'Blue', 'Purple', 'Orange'), ('Blue', 'Blue', 'Purple', 'Purple'), ('Blue', 'Blue', 'Purple', 'Yellow'), ('Blue', 'Blue', 'Yellow', 'Red'), ('Blue', 'Blue', 'Yellow', 'Blue'), ('Blue', 'Blue', 'Yellow', 'Green'), ('Blue', 'Blue', 'Yellow', 'Orange'), ('Blue', 'Blue', 'Yellow', 'Purple'), ('Blue', 'Blue', 'Yellow', 'Yellow'), ('Blue', 'Green', 'Red', 'Red'), ('Blue', 'Green', 'Red', 'Blue'), ('Blue', 'Green', 'Red', 'Green'), ('Blue', 'Green', 'Red', 'Orange'), ('Blue', 'Green', 'Red', 'Purple'), ('Blue', 'Green', 'Red', 'Yellow'), ('Blue', 'Green', 'Blue', 'Red'), ('Blue', 'Green', 'Blue', 'Blue'), ('Blue', 'Green', 'Blue', 'Green'), ('Blue', 'Green', 'Blue', 'Orange'), ('Blue', 'Green', 'Blue', 'Purple'), ('Blue', 'Green', 'Blue', 'Yellow'), ('Blue', 'Green', 'Green', 'Red'), ('Blue', 'Green', 'Green', 'Blue'), ('Blue', 'Green', 'Green', 'Green'), ('Blue', 'Green', 'Green', 'Orange'), ('Blue', 'Green', 'Green', 'Purple'), ('Blue', 'Green', 'Green', 'Yellow'), ('Blue', 'Green', 'Orange', 'Red'), ('Blue', 'Green', 'Orange', 'Blue'), ('Blue', 'Green', 'Orange', 'Green'), ('Blue', 'Green', 'Orange', 'Orange'), ('Blue', 'Green', 'Orange', 'Purple'), ('Blue', 'Green', 'Orange', 'Yellow'), ('Blue', 'Green', 'Purple', 'Red'), ('Blue', 'Green', 'Purple', 'Blue'), ('Blue', 'Green', 'Purple', 'Green'), ('Blue', 'Green', 'Purple', 'Orange'), ('Blue', 'Green', 'Purple', 'Purple'), ('Blue', 'Green', 'Purple', 'Yellow'), ('Blue', 'Green', 'Yellow', 'Red'), ('Blue', 'Green', 'Yellow', 'Blue'), ('Blue', 'Green', 'Yellow', 'Green'), ('Blue', 'Green', 'Yellow', 'Orange'), ('Blue', 'Green', 'Yellow', 'Purple'), ('Blue', 'Green', 'Yellow', 'Yellow'), ('Blue', 'Orange', 'Red', 'Red'), ('Blue', 'Orange', 'Red', 'Blue'), ('Blue', 'Orange', 'Red', 'Green'), ('Blue', 'Orange', 'Red', 'Orange'), ('Blue', 'Orange', 'Red', 'Purple'), ('Blue', 'Orange', 'Red', 'Yellow'), ('Blue', 'Orange', 'Blue', 'Red'), ('Blue', 'Orange', 'Blue', 'Blue'), ('Blue', 'Orange', 'Blue', 'Green'), ('Blue', 'Orange', 'Blue', 'Orange'), ('Blue', 'Orange', 'Blue', 'Purple'), ('Blue', 'Orange', 'Blue', 'Yellow'), ('Blue', 'Orange', 'Green', 'Red'), ('Blue', 'Orange', 'Green', 'Blue'), ('Blue', 'Orange', 'Green', 'Green'), ('Blue', 'Orange', 'Green', 'Orange'), ('Blue', 'Orange', 'Green', 'Purple'), ('Blue', 'Orange', 'Green', 'Yellow'), ('Blue', 'Orange', 'Orange', 'Red'), ('Blue', 'Orange', 'Orange', 'Blue'), ('Blue', 'Orange', 'Orange', 'Green'), ('Blue', 'Orange', 'Orange', 'Orange'), ('Blue', 'Orange', 'Orange', 'Purple'), ('Blue', 'Orange', 'Orange', 'Yellow'), ('Blue', 'Orange', 'Purple', 'Red'), ('Blue', 'Orange', 'Purple', 'Blue'), ('Blue', 'Orange', 'Purple', 'Green'), ('Blue', 'Orange', 'Purple', 'Orange'), ('Blue', 'Orange', 'Purple', 'Purple'), ('Blue', 'Orange', 'Purple', 'Yellow'), ('Blue', 'Orange', 'Yellow', 'Red'), ('Blue', 'Orange', 'Yellow', 'Blue'), ('Blue', 'Orange', 'Yellow', 'Green'), ('Blue', 'Orange', 'Yellow', 'Orange'), ('Blue', 'Orange', 'Yellow', 'Purple'), ('Blue', 'Orange', 'Yellow', 'Yellow'), ('Blue', 'Purple', 'Red', 'Red'), ('Blue', 'Purple', 'Red', 'Blue'), ('Blue', 'Purple', 'Red', 'Green'), ('Blue', 'Purple', 'Red', 'Orange'), ('Blue', 'Purple', 'Red', 'Purple'), ('Blue', 'Purple', 'Red', 'Yellow'), ('Blue', 'Purple', 'Blue', 'Red'), ('Blue', 'Purple', 'Blue', 'Blue'), ('Blue', 'Purple', 'Blue', 'Green'), ('Blue', 'Purple', 'Blue', 'Orange'), ('Blue', 'Purple', 'Blue', 'Purple'), ('Blue', 'Purple', 'Blue', 'Yellow'), ('Blue', 'Purple', 'Green', 'Red'), ('Blue', 'Purple', 'Green', 'Blue'), ('Blue', 'Purple', 'Green', 'Green'), ('Blue', 'Purple', 'Green', 'Orange'), ('Blue', 'Purple', 'Green', 'Purple'), ('Blue', 'Purple', 'Green', 'Yellow'), ('Blue', 'Purple', 'Orange', 'Red'), ('Blue', 'Purple', 'Orange', 'Blue'), ('Blue', 'Purple', 'Orange', 'Green'), ('Blue', 'Purple', 'Orange', 'Orange'), ('Blue', 'Purple', 'Orange', 'Purple'), ('Blue', 'Purple', 'Orange', 'Yellow'), ('Blue', 'Purple', 'Purple', 'Red'), ('Blue', 'Purple', 'Purple', 'Blue'), ('Blue', 'Purple', 'Purple', 'Green'), ('Blue', 'Purple', 'Purple', 'Orange'), ('Blue', 'Purple', 'Purple', 'Purple'), ('Blue', 'Purple', 'Purple', 'Yellow'), ('Blue', 'Purple', 'Yellow', 'Red'), ('Blue', 'Purple', 'Yellow', 'Blue'), ('Blue', 'Purple', 'Yellow', 'Green'), ('Blue', 'Purple', 'Yellow', 'Orange'), ('Blue', 'Purple', 'Yellow', 'Purple'), ('Blue', 'Purple', 'Yellow', 'Yellow'), ('Blue', 'Yellow', 'Red', 'Red'), ('Blue', 'Yellow', 'Red', 'Blue'), ('Blue', 'Yellow', 'Red', 'Green'), ('Blue', 'Yellow', 'Red', 'Orange'), ('Blue', 'Yellow', 'Red', 'Purple'), ('Blue', 'Yellow', 'Red', 'Yellow'), ('Blue', 'Yellow', 'Blue', 'Red'), ('Blue', 'Yellow', 'Blue', 'Blue'), ('Blue', 'Yellow', 'Blue', 'Green'), ('Blue', 'Yellow', 'Blue', 'Orange'), ('Blue', 'Yellow', 'Blue', 'Purple'), ('Blue', 'Yellow', 'Blue', 'Yellow'), ('Blue', 'Yellow', 'Green', 'Red'), ('Blue', 'Yellow', 'Green', 'Blue'), ('Blue', 'Yellow', 'Green', 'Green'), ('Blue', 'Yellow', 'Green', 'Orange'), ('Blue', 'Yellow', 'Green', 'Purple'), ('Blue', 'Yellow', 'Green', 'Yellow'), ('Blue', 'Yellow', 'Orange', 'Red'), ('Blue', 'Yellow', 'Orange', 'Blue'), ('Blue', 'Yellow', 'Orange', 'Green'), ('Blue', 'Yellow', 'Orange', 'Orange'), ('Blue', 'Yellow', 'Orange', 'Purple'), ('Blue', 'Yellow', 'Orange', 'Yellow'), ('Blue', 'Yellow', 'Purple', 'Red'), ('Blue', 'Yellow', 'Purple', 'Blue'), ('Blue', 'Yellow', 'Purple', 'Green'), ('Blue', 'Yellow', 'Purple', 'Orange'), ('Blue', 'Yellow', 'Purple', 'Purple'), ('Blue', 'Yellow', 'Purple', 'Yellow'), ('Blue', 'Yellow', 'Yellow', 'Red'), ('Blue', 'Yellow', 'Yellow', 'Blue'), ('Blue', 'Yellow', 'Yellow', 'Green'), ('Blue', 'Yellow', 'Yellow', 'Orange'), ('Blue', 'Yellow', 'Yellow', 'Purple'), ('Blue', 'Yellow', 'Yellow', 'Yellow'), ('Green', 'Red', 'Red', 'Red'), ('Green', 'Red', 'Red', 'Blue'), ('Green', 'Red', 'Red', 'Green'), ('Green', 'Red', 'Red', 'Orange'), ('Green', 'Red', 'Red', 'Purple'), ('Green', 'Red', 'Red', 'Yellow'), ('Green', 'Red', 'Blue', 'Red'), ('Green', 'Red', 'Blue', 'Blue'), ('Green', 'Red', 'Blue', 'Green'), ('Green', 'Red', 'Blue', 'Orange'), ('Green', 'Red', 'Blue', 'Purple'), ('Green', 'Red', 'Blue', 'Yellow'), ('Green', 'Red', 'Green', 'Red'), ('Green', 'Red', 'Green', 'Blue'), ('Green', 'Red', 'Green', 'Green'), ('Green', 'Red', 'Green', 'Orange'), ('Green', 'Red', 'Green', 'Purple'), ('Green', 'Red', 'Green', 'Yellow'), ('Green', 'Red', 'Orange', 'Red'), ('Green', 'Red', 'Orange', 'Blue'), ('Green', 'Red', 'Orange', 'Green'), ('Green', 'Red', 'Orange', 'Orange'), ('Green', 'Red', 'Orange', 'Purple'), ('Green', 'Red', 'Orange', 'Yellow'), ('Green', 'Red', 'Purple', 'Red'), ('Green', 'Red', 'Purple', 'Blue'), ('Green', 'Red', 'Purple', 'Green'), ('Green', 'Red', 'Purple', 'Orange'), ('Green', 'Red', 'Purple', 'Purple'), ('Green', 'Red', 'Purple', 'Yellow'), ('Green', 'Red', 'Yellow', 'Red'), ('Green', 'Red', 'Yellow', 'Blue'), ('Green', 'Red', 'Yellow', 'Green'), ('Green', 'Red', 'Yellow', 'Orange'), ('Green', 'Red', 'Yellow', 'Purple'), ('Green', 'Red', 'Yellow', 'Yellow'), ('Green', 'Blue', 'Red', 'Red'), ('Green', 'Blue', 'Red', 'Blue'), ('Green', 'Blue', 'Red', 'Green'), ('Green', 'Blue', 'Red', 'Orange'), ('Green', 'Blue', 'Red', 'Purple'), ('Green', 'Blue', 'Red', 'Yellow'), ('Green', 'Blue', 'Blue', 'Red'), ('Green', 'Blue', 'Blue', 'Blue'), ('Green', 'Blue', 'Blue', 'Green'), ('Green', 'Blue', 'Blue', 'Orange'), ('Green', 'Blue', 'Blue', 'Purple'), ('Green', 'Blue', 'Blue', 'Yellow'), ('Green', 'Blue', 'Green', 'Red'), ('Green', 'Blue', 'Green', 'Blue'), ('Green', 'Blue', 'Green', 'Green'), ('Green', 'Blue', 'Green', 'Orange'), ('Green', 'Blue', 'Green', 'Purple'), ('Green', 'Blue', 'Green', 'Yellow'), ('Green', 'Blue', 'Orange', 'Red'), ('Green', 'Blue', 'Orange', 'Blue'), ('Green', 'Blue', 'Orange', 'Green'), ('Green', 'Blue', 'Orange', 'Orange'), ('Green', 'Blue', 'Orange', 'Purple'), ('Green', 'Blue', 'Orange', 'Yellow'), ('Green', 'Blue', 'Purple', 'Red'), ('Green', 'Blue', 'Purple', 'Blue'), ('Green', 'Blue', 'Purple', 'Green'), ('Green', 'Blue', 'Purple', 'Orange'), ('Green', 'Blue', 'Purple', 'Purple'), ('Green', 'Blue', 'Purple', 'Yellow'), ('Green', 'Blue', 'Yellow', 'Red'), ('Green', 'Blue', 'Yellow', 'Blue'), ('Green', 'Blue', 'Yellow', 'Green'), ('Green', 'Blue', 'Yellow', 'Orange'), ('Green', 'Blue', 'Yellow', 'Purple'), ('Green', 'Blue', 'Yellow', 'Yellow'), ('Green', 'Green', 'Red', 'Red'), ('Green', 'Green', 'Red', 'Blue'), ('Green', 'Green', 'Red', 'Green'), ('Green', 'Green', 'Red', 'Orange'), ('Green', 'Green', 'Red', 'Purple'), ('Green', 'Green', 'Red', 'Yellow'), ('Green', 'Green', 'Blue', 'Red'), ('Green', 'Green', 'Blue', 'Blue'), ('Green', 'Green', 'Blue', 'Green'), ('Green', 'Green', 'Blue', 'Orange'), ('Green', 'Green', 'Blue', 'Purple'), ('Green', 'Green', 'Blue', 'Yellow'), ('Green', 'Green', 'Green', 'Red'), ('Green', 'Green', 'Green', 'Blue'), ('Green', 'Green', 'Green', 'Green'), ('Green', 'Green', 'Green', 'Orange'), ('Green', 'Green', 'Green', 'Purple'), ('Green', 'Green', 'Green', 'Yellow'), ('Green', 'Green', 'Orange', 'Red'), ('Green', 'Green', 'Orange', 'Blue'), ('Green', 'Green', 'Orange', 'Green'), ('Green', 'Green', 'Orange', 'Orange'), ('Green', 'Green', 'Orange', 'Purple'), ('Green', 'Green', 'Orange', 'Yellow'), ('Green', 'Green', 'Purple', 'Red'), ('Green', 'Green', 'Purple', 'Blue'), ('Green', 'Green', 'Purple', 'Green'), ('Green', 'Green', 'Purple', 'Orange'), ('Green', 'Green', 'Purple', 'Purple'), ('Green', 'Green', 'Purple', 'Yellow'), ('Green', 'Green', 'Yellow', 'Red'), ('Green', 'Green', 'Yellow', 'Blue'), ('Green', 'Green', 'Yellow', 'Green'), ('Green', 'Green', 'Yellow', 'Orange'), ('Green', 'Green', 'Yellow', 'Purple'), ('Green', 'Green', 'Yellow', 'Yellow'), ('Green', 'Orange', 'Red', 'Red'), ('Green', 'Orange', 'Red', 'Blue'), ('Green', 'Orange', 'Red', 'Green'), ('Green', 'Orange', 'Red', 'Orange'), ('Green', 'Orange', 'Red', 'Purple'), ('Green', 'Orange', 'Red', 'Yellow'), ('Green', 'Orange', 'Blue', 'Red'), ('Green', 'Orange', 'Blue', 'Blue'), ('Green', 'Orange', 'Blue', 'Green'), ('Green', 'Orange', 'Blue', 'Orange'), ('Green', 'Orange', 'Blue', 'Purple'), ('Green', 'Orange', 'Blue', 'Yellow'), ('Green', 'Orange', 'Green', 'Red'), ('Green', 'Orange', 'Green', 'Blue'), ('Green', 'Orange', 'Green', 'Green'), ('Green', 'Orange', 'Green', 'Orange'), ('Green', 'Orange', 'Green', 'Purple'), ('Green', 'Orange', 'Green', 'Yellow'), ('Green', 'Orange', 'Orange', 'Red'), ('Green', 'Orange', 'Orange', 'Blue'), ('Green', 'Orange', 'Orange', 'Green'), ('Green', 'Orange', 'Orange', 'Orange'), ('Green', 'Orange', 'Orange', 'Purple'), ('Green', 'Orange', 'Orange', 'Yellow'), ('Green', 'Orange', 'Purple', 'Red'), ('Green', 'Orange', 'Purple', 'Blue'), ('Green', 'Orange', 'Purple', 'Green'), ('Green', 'Orange', 'Purple', 'Orange'), ('Green', 'Orange', 'Purple', 'Purple'), ('Green', 'Orange', 'Purple', 'Yellow'), ('Green', 'Orange', 'Yellow', 'Red'), ('Green', 'Orange', 'Yellow', 'Blue'), ('Green', 'Orange', 'Yellow', 'Green'), ('Green', 'Orange', 'Yellow', 'Orange'), ('Green', 'Orange', 'Yellow', 'Purple'), ('Green', 'Orange', 'Yellow', 'Yellow'), ('Green', 'Purple', 'Red', 'Red'), ('Green', 'Purple', 'Red', 'Blue'), ('Green', 'Purple', 'Red', 'Green'), ('Green', 'Purple', 'Red', 'Orange'), ('Green', 'Purple', 'Red', 'Purple'), ('Green', 'Purple', 'Red', 'Yellow'), ('Green', 'Purple', 'Blue', 'Red'), ('Green', 'Purple', 'Blue', 'Blue'), ('Green', 'Purple', 'Blue', 'Green'), ('Green', 'Purple', 'Blue', 'Orange'), ('Green', 'Purple', 'Blue', 'Purple'), ('Green', 'Purple', 'Blue', 'Yellow'), ('Green', 'Purple', 'Green', 'Red'), ('Green', 'Purple', 'Green', 'Blue'), ('Green', 'Purple', 'Green', 'Green'), ('Green', 'Purple', 'Green', 'Orange'), ('Green', 'Purple', 'Green', 'Purple'), ('Green', 'Purple', 'Green', 'Yellow'), ('Green', 'Purple', 'Orange', 'Red'), ('Green', 'Purple', 'Orange', 'Blue'), ('Green', 'Purple', 'Orange', 'Green'), ('Green', 'Purple', 'Orange', 'Orange'), ('Green', 'Purple', 'Orange', 'Purple'), ('Green', 'Purple', 'Orange', 'Yellow'), ('Green', 'Purple', 'Purple', 'Red'), ('Green', 'Purple', 'Purple', 'Blue'), ('Green', 'Purple', 'Purple', 'Green'), ('Green', 'Purple', 'Purple', 'Orange'), ('Green', 'Purple', 'Purple', 'Purple'), ('Green', 'Purple', 'Purple', 'Yellow'), ('Green', 'Purple', 'Yellow', 'Red'), ('Green', 'Purple', 'Yellow', 'Blue'), ('Green', 'Purple', 'Yellow', 'Green'), ('Green', 'Purple', 'Yellow', 'Orange'), ('Green', 'Purple', 'Yellow', 'Purple'), ('Green', 'Purple', 'Yellow', 'Yellow'), ('Green', 'Yellow', 'Red', 'Red'), ('Green', 'Yellow', 'Red', 'Blue'), ('Green', 'Yellow', 'Red', 'Green'), ('Green', 'Yellow', 'Red', 'Orange'), ('Green', 'Yellow', 'Red', 'Purple'), ('Green', 'Yellow', 'Red', 'Yellow'), ('Green', 'Yellow', 'Blue', 'Red'), ('Green', 'Yellow', 'Blue', 'Blue'), ('Green', 'Yellow', 'Blue', 'Green'), ('Green', 'Yellow', 'Blue', 'Orange'), ('Green', 'Yellow', 'Blue', 'Purple'), ('Green', 'Yellow', 'Blue', 'Yellow'), ('Green', 'Yellow', 'Green', 'Red'), ('Green', 'Yellow', 'Green', 'Blue'), ('Green', 'Yellow', 'Green', 'Green'), ('Green', 'Yellow', 'Green', 'Orange'), ('Green', 'Yellow', 'Green', 'Purple'), ('Green', 'Yellow', 'Green', 'Yellow'), ('Green', 'Yellow', 'Orange', 'Red'), ('Green', 'Yellow', 'Orange', 'Blue'), ('Green', 'Yellow', 'Orange', 'Green'), ('Green', 'Yellow', 'Orange', 'Orange'), ('Green', 'Yellow', 'Orange', 'Purple'), ('Green', 'Yellow', 'Orange', 'Yellow'), ('Green', 'Yellow', 'Purple', 'Red'), ('Green', 'Yellow', 'Purple', 'Blue'), ('Green', 'Yellow', 'Purple', 'Green'), ('Green', 'Yellow', 'Purple', 'Orange'), ('Green', 'Yellow', 'Purple', 'Purple'), ('Green', 'Yellow', 'Purple', 'Yellow'), ('Green', 'Yellow', 'Yellow', 'Red'), ('Green', 'Yellow', 'Yellow', 'Blue'), ('Green', 'Yellow', 'Yellow', 'Green'), ('Green', 'Yellow', 'Yellow', 'Orange'), ('Green', 'Yellow', 'Yellow', 'Purple'), ('Green', 'Yellow', 'Yellow', 'Yellow'), ('Orange', 'Red', 'Red', 'Red'), ('Orange', 'Red', 'Red', 'Blue'), ('Orange', 'Red', 'Red', 'Green'), ('Orange', 'Red', 'Red', 'Orange'), ('Orange', 'Red', 'Red', 'Purple'), ('Orange', 'Red', 'Red', 'Yellow'), ('Orange', 'Red', 'Blue', 'Red'), ('Orange', 'Red', 'Blue', 'Blue'), ('Orange', 'Red', 'Blue', 'Green'), ('Orange', 'Red', 'Blue', 'Orange'), ('Orange', 'Red', 'Blue', 'Purple'), ('Orange', 'Red', 'Blue', 'Yellow'), ('Orange', 'Red', 'Green', 'Red'), ('Orange', 'Red', 'Green', 'Blue'), ('Orange', 'Red', 'Green', 'Green'), ('Orange', 'Red', 'Green', 'Orange'), ('Orange', 'Red', 'Green', 'Purple'), ('Orange', 'Red', 'Green', 'Yellow'), ('Orange', 'Red', 'Orange', 'Red'), ('Orange', 'Red', 'Orange', 'Blue'), ('Orange', 'Red', 'Orange', 'Green'), ('Orange', 'Red', 'Orange', 'Orange'), ('Orange', 'Red', 'Orange', 'Purple'), ('Orange', 'Red', 'Orange', 'Yellow'), ('Orange', 'Red', 'Purple', 'Red'), ('Orange', 'Red', 'Purple', 'Blue'), ('Orange', 'Red', 'Purple', 'Green'), ('Orange', 'Red', 'Purple', 'Orange'), ('Orange', 'Red', 'Purple', 'Purple'), ('Orange', 'Red', 'Purple', 'Yellow'), ('Orange', 'Red', 'Yellow', 'Red'), ('Orange', 'Red', 'Yellow', 'Blue'), ('Orange', 'Red', 'Yellow', 'Green'), ('Orange', 'Red', 'Yellow', 'Orange'), ('Orange', 'Red', 'Yellow', 'Purple'), ('Orange', 'Red', 'Yellow', 'Yellow'), ('Orange', 'Blue', 'Red', 'Red'), ('Orange', 'Blue', 'Red', 'Blue'), ('Orange', 'Blue', 'Red', 'Green'), ('Orange', 'Blue', 'Red', 'Orange'), ('Orange', 'Blue', 'Red', 'Purple'), ('Orange', 'Blue', 'Red', 'Yellow'), ('Orange', 'Blue', 'Blue', 'Red'), ('Orange', 'Blue', 'Blue', 'Blue'), ('Orange', 'Blue', 'Blue', 'Green'), ('Orange', 'Blue', 'Blue', 'Orange'), ('Orange', 'Blue', 'Blue', 'Purple'), ('Orange', 'Blue', 'Blue', 'Yellow'), ('Orange', 'Blue', 'Green', 'Red'), ('Orange', 'Blue', 'Green', 'Blue'), ('Orange', 'Blue', 'Green', 'Green'), ('Orange', 'Blue', 'Green', 'Orange'), ('Orange', 'Blue', 'Green', 'Purple'), ('Orange', 'Blue', 'Green', 'Yellow'), ('Orange', 'Blue', 'Orange', 'Red'), ('Orange', 'Blue', 'Orange', 'Blue'), ('Orange', 'Blue', 'Orange', 'Green'), ('Orange', 'Blue', 'Orange', 'Orange'), ('Orange', 'Blue', 'Orange', 'Purple'), ('Orange', 'Blue', 'Orange', 'Yellow'), ('Orange', 'Blue', 'Purple', 'Red'), ('Orange', 'Blue', 'Purple', 'Blue'), ('Orange', 'Blue', 'Purple', 'Green'), ('Orange', 'Blue', 'Purple', 'Orange'), ('Orange', 'Blue', 'Purple', 'Purple'), ('Orange', 'Blue', 'Purple', 'Yellow'), ('Orange', 'Blue', 'Yellow', 'Red'), ('Orange', 'Blue', 'Yellow', 'Blue'), ('Orange', 'Blue', 'Yellow', 'Green'), ('Orange', 'Blue', 'Yellow', 'Orange'), ('Orange', 'Blue', 'Yellow', 'Purple'), ('Orange', 'Blue', 'Yellow', 'Yellow'), ('Orange', 'Green', 'Red', 'Red'), ('Orange', 'Green', 'Red', 'Blue'), ('Orange', 'Green', 'Red', 'Green'), ('Orange', 'Green', 'Red', 'Orange'), ('Orange', 'Green', 'Red', 'Purple'), ('Orange', 'Green', 'Red', 'Yellow'), ('Orange', 'Green', 'Blue', 'Red'), ('Orange', 'Green', 'Blue', 'Blue'), ('Orange', 'Green', 'Blue', 'Green'), ('Orange', 'Green', 'Blue', 'Orange'), ('Orange', 'Green', 'Blue', 'Purple'), ('Orange', 'Green', 'Blue', 'Yellow'), ('Orange', 'Green', 'Green', 'Red'), ('Orange', 'Green', 'Green', 'Blue'), ('Orange', 'Green', 'Green', 'Green'), ('Orange', 'Green', 'Green', 'Orange'), ('Orange', 'Green', 'Green', 'Purple'), ('Orange', 'Green', 'Green', 'Yellow'), ('Orange', 'Green', 'Orange', 'Red'), ('Orange', 'Green', 'Orange', 'Blue'), ('Orange', 'Green', 'Orange', 'Green'), ('Orange', 'Green', 'Orange', 'Orange'), ('Orange', 'Green', 'Orange', 'Purple'), ('Orange', 'Green', 'Orange', 'Yellow'), ('Orange', 'Green', 'Purple', 'Red'), ('Orange', 'Green', 'Purple', 'Blue'), ('Orange', 'Green', 'Purple', 'Green'), ('Orange', 'Green', 'Purple', 'Orange'), ('Orange', 'Green', 'Purple', 'Purple'), ('Orange', 'Green', 'Purple', 'Yellow'), ('Orange', 'Green', 'Yellow', 'Red'), ('Orange', 'Green', 'Yellow', 'Blue'), ('Orange', 'Green', 'Yellow', 'Green'), ('Orange', 'Green', 'Yellow', 'Orange'), ('Orange', 'Green', 'Yellow', 'Purple'), ('Orange', 'Green', 'Yellow', 'Yellow'), ('Orange', 'Orange', 'Red', 'Red'), ('Orange', 'Orange', 'Red', 'Blue'), ('Orange', 'Orange', 'Red', 'Green'), ('Orange', 'Orange', 'Red', 'Orange'), ('Orange', 'Orange', 'Red', 'Purple'), ('Orange', 'Orange', 'Red', 'Yellow'), ('Orange', 'Orange', 'Blue', 'Red'), ('Orange', 'Orange', 'Blue', 'Blue'), ('Orange', 'Orange', 'Blue', 'Green'), ('Orange', 'Orange', 'Blue', 'Orange'), ('Orange', 'Orange', 'Blue', 'Purple'), ('Orange', 'Orange', 'Blue', 'Yellow'), ('Orange', 'Orange', 'Green', 'Red'), ('Orange', 'Orange', 'Green', 'Blue'), ('Orange', 'Orange', 'Green', 'Green'), ('Orange', 'Orange', 'Green', 'Orange'), ('Orange', 'Orange', 'Green', 'Purple'), ('Orange', 'Orange', 'Green', 'Yellow'), ('Orange', 'Orange', 'Orange', 'Red'), ('Orange', 'Orange', 'Orange', 'Blue'), ('Orange', 'Orange', 'Orange', 'Green'), ('Orange', 'Orange', 'Orange', 'Orange'), ('Orange', 'Orange', 'Orange', 'Purple'), ('Orange', 'Orange', 'Orange', 'Yellow'), ('Orange', 'Orange', 'Purple', 'Red'), ('Orange', 'Orange', 'Purple', 'Blue'), ('Orange', 'Orange', 'Purple', 'Green'), ('Orange', 'Orange', 'Purple', 'Orange'), ('Orange', 'Orange', 'Purple', 'Purple'), ('Orange', 'Orange', 'Purple', 'Yellow'), ('Orange', 'Orange', 'Yellow', 'Red'), ('Orange', 'Orange', 'Yellow', 'Blue'), ('Orange', 'Orange', 'Yellow', 'Green'), ('Orange', 'Orange', 'Yellow', 'Orange'), ('Orange', 'Orange', 'Yellow', 'Purple'), ('Orange', 'Orange', 'Yellow', 'Yellow'), ('Orange', 'Purple', 'Red', 'Red'), ('Orange', 'Purple', 'Red', 'Blue'), ('Orange', 'Purple', 'Red', 'Green'), ('Orange', 'Purple', 'Red', 'Orange'), ('Orange', 'Purple', 'Red', 'Purple'), ('Orange', 'Purple', 'Red', 'Yellow'), ('Orange', 'Purple', 'Blue', 'Red'), ('Orange', 'Purple', 'Blue', 'Blue'), ('Orange', 'Purple', 'Blue', 'Green'), ('Orange', 'Purple', 'Blue', 'Orange'), ('Orange', 'Purple', 'Blue', 'Purple'), ('Orange', 'Purple', 'Blue', 'Yellow'), ('Orange', 'Purple', 'Green', 'Red'), ('Orange', 'Purple', 'Green', 'Blue'), ('Orange', 'Purple', 'Green', 'Green'), ('Orange', 'Purple', 'Green', 'Orange'), ('Orange', 'Purple', 'Green', 'Purple'), ('Orange', 'Purple', 'Green', 'Yellow'), ('Orange', 'Purple', 'Orange', 'Red'), ('Orange', 'Purple', 'Orange', 'Blue'), ('Orange', 'Purple', 'Orange', 'Green'), ('Orange', 'Purple', 'Orange', 'Orange'), ('Orange', 'Purple', 'Orange', 'Purple'), ('Orange', 'Purple', 'Orange', 'Yellow'), ('Orange', 'Purple', 'Purple', 'Red'), ('Orange', 'Purple', 'Purple', 'Blue'), ('Orange', 'Purple', 'Purple', 'Green'), ('Orange', 'Purple', 'Purple', 'Orange'), ('Orange', 'Purple', 'Purple', 'Purple'), ('Orange', 'Purple', 'Purple', 'Yellow'), ('Orange', 'Purple', 'Yellow', 'Red'), ('Orange', 'Purple', 'Yellow', 'Blue'), ('Orange', 'Purple', 'Yellow', 'Green'), ('Orange', 'Purple', 'Yellow', 'Orange'), ('Orange', 'Purple', 'Yellow', 'Purple'), ('Orange', 'Purple', 'Yellow', 'Yellow'), ('Orange', 'Yellow', 'Red', 'Red'), ('Orange', 'Yellow', 'Red', 'Blue'), ('Orange', 'Yellow', 'Red', 'Green'), ('Orange', 'Yellow', 'Red', 'Orange'), ('Orange', 'Yellow', 'Red', 'Purple'), ('Orange', 'Yellow', 'Red', 'Yellow'), ('Orange', 'Yellow', 'Blue', 'Red'), ('Orange', 'Yellow', 'Blue', 'Blue'), ('Orange', 'Yellow', 'Blue', 'Green'), ('Orange', 'Yellow', 'Blue', 'Orange'), ('Orange', 'Yellow', 'Blue', 'Purple'), ('Orange', 'Yellow', 'Blue', 'Yellow'), ('Orange', 'Yellow', 'Green', 'Red'), ('Orange', 'Yellow', 'Green', 'Blue'), ('Orange', 'Yellow', 'Green', 'Green'), ('Orange', 'Yellow', 'Green', 'Orange'), ('Orange', 'Yellow', 'Green', 'Purple'), ('Orange', 'Yellow', 'Green', 'Yellow'), ('Orange', 'Yellow', 'Orange', 'Red'), ('Orange', 'Yellow', 'Orange', 'Blue'), ('Orange', 'Yellow', 'Orange', 'Green'), ('Orange', 'Yellow', 'Orange', 'Orange'), ('Orange', 'Yellow', 'Orange', 'Purple'), ('Orange', 'Yellow', 'Orange', 'Yellow'), ('Orange', 'Yellow', 'Purple', 'Red'), ('Orange', 'Yellow', 'Purple', 'Blue'), ('Orange', 'Yellow', 'Purple', 'Green'), ('Orange', 'Yellow', 'Purple', 'Orange'), ('Orange', 'Yellow', 'Purple', 'Purple'), ('Orange', 'Yellow', 'Purple', 'Yellow'), ('Orange', 'Yellow', 'Yellow', 'Red'), ('Orange', 'Yellow', 'Yellow', 'Blue'), ('Orange', 'Yellow', 'Yellow', 'Green'), ('Orange', 'Yellow', 'Yellow', 'Orange'), ('Orange', 'Yellow', 'Yellow', 'Purple'), ('Orange', 'Yellow', 'Yellow', 'Yellow'), ('Purple', 'Red', 'Red', 'Red'), ('Purple', 'Red', 'Red', 'Blue'), ('Purple', 'Red', 'Red', 'Green'), ('Purple', 'Red', 'Red', 'Orange'), ('Purple', 'Red', 'Red', 'Purple'), ('Purple', 'Red', 'Red', 'Yellow'), ('Purple', 'Red', 'Blue', 'Red'), ('Purple', 'Red', 'Blue', 'Blue'), ('Purple', 'Red', 'Blue', 'Green'), ('Purple', 'Red', 'Blue', 'Orange'), ('Purple', 'Red', 'Blue', 'Purple'), ('Purple', 'Red', 'Blue', 'Yellow'), ('Purple', 'Red', 'Green', 'Red'), ('Purple', 'Red', 'Green', 'Blue'), ('Purple', 'Red', 'Green', 'Green'), ('Purple', 'Red', 'Green', 'Orange'), ('Purple', 'Red', 'Green', 'Purple'), ('Purple', 'Red', 'Green', 'Yellow'), ('Purple', 'Red', 'Orange', 'Red'), ('Purple', 'Red', 'Orange', 'Blue'), ('Purple', 'Red', 'Orange', 'Green'), ('Purple', 'Red', 'Orange', 'Orange'), ('Purple', 'Red', 'Orange', 'Purple'), ('Purple', 'Red', 'Orange', 'Yellow'), ('Purple', 'Red', 'Purple', 'Red'), ('Purple', 'Red', 'Purple', 'Blue'), ('Purple', 'Red', 'Purple', 'Green'), ('Purple', 'Red', 'Purple', 'Orange'), ('Purple', 'Red', 'Purple', 'Purple'), ('Purple', 'Red', 'Purple', 'Yellow'), ('Purple', 'Red', 'Yellow', 'Red'), ('Purple', 'Red', 'Yellow', 'Blue'), ('Purple', 'Red', 'Yellow', 'Green'), ('Purple', 'Red', 'Yellow', 'Orange'), ('Purple', 'Red', 'Yellow', 'Purple'), ('Purple', 'Red', 'Yellow', 'Yellow'), ('Purple', 'Blue', 'Red', 'Red'), ('Purple', 'Blue', 'Red', 'Blue'), ('Purple', 'Blue', 'Red', 'Green'), ('Purple', 'Blue', 'Red', 'Orange'), ('Purple', 'Blue', 'Red', 'Purple'), ('Purple', 'Blue', 'Red', 'Yellow'), ('Purple', 'Blue', 'Blue', 'Red'), ('Purple', 'Blue', 'Blue', 'Blue'), ('Purple', 'Blue', 'Blue', 'Green'), ('Purple', 'Blue', 'Blue', 'Orange'), ('Purple', 'Blue', 'Blue', 'Purple'), ('Purple', 'Blue', 'Blue', 'Yellow'), ('Purple', 'Blue', 'Green', 'Red'), ('Purple', 'Blue', 'Green', 'Blue'), ('Purple', 'Blue', 'Green', 'Green'), ('Purple', 'Blue', 'Green', 'Orange'), ('Purple', 'Blue', 'Green', 'Purple'), ('Purple', 'Blue', 'Green', 'Yellow'), ('Purple', 'Blue', 'Orange', 'Red'), ('Purple', 'Blue', 'Orange', 'Blue'), ('Purple', 'Blue', 'Orange', 'Green'), ('Purple', 'Blue', 'Orange', 'Orange'), ('Purple', 'Blue', 'Orange', 'Purple'), ('Purple', 'Blue', 'Orange', 'Yellow'), ('Purple', 'Blue', 'Purple', 'Red'), ('Purple', 'Blue', 'Purple', 'Blue'), ('Purple', 'Blue', 'Purple', 'Green'), ('Purple', 'Blue', 'Purple', 'Orange'), ('Purple', 'Blue', 'Purple', 'Purple'), ('Purple', 'Blue', 'Purple', 'Yellow'), ('Purple', 'Blue', 'Yellow', 'Red'), ('Purple', 'Blue', 'Yellow', 'Blue'), ('Purple', 'Blue', 'Yellow', 'Green'), ('Purple', 'Blue', 'Yellow', 'Orange'), ('Purple', 'Blue', 'Yellow', 'Purple'), ('Purple', 'Blue', 'Yellow', 'Yellow'), ('Purple', 'Green', 'Red', 'Red'), ('Purple', 'Green', 'Red', 'Blue'), ('Purple', 'Green', 'Red', 'Green'), ('Purple', 'Green', 'Red', 'Orange'), ('Purple', 'Green', 'Red', 'Purple'), ('Purple', 'Green', 'Red', 'Yellow'), ('Purple', 'Green', 'Blue', 'Red'), ('Purple', 'Green', 'Blue', 'Blue'), ('Purple', 'Green', 'Blue', 'Green'), ('Purple', 'Green', 'Blue', 'Orange'), ('Purple', 'Green', 'Blue', 'Purple'), ('Purple', 'Green', 'Blue', 'Yellow'), ('Purple', 'Green', 'Green', 'Red'), ('Purple', 'Green', 'Green', 'Blue'), ('Purple', 'Green', 'Green', 'Green'), ('Purple', 'Green', 'Green', 'Orange'), ('Purple', 'Green', 'Green', 'Purple'), ('Purple', 'Green', 'Green', 'Yellow'), ('Purple', 'Green', 'Orange', 'Red'), ('Purple', 'Green', 'Orange', 'Blue'), ('Purple', 'Green', 'Orange', 'Green'), ('Purple', 'Green', 'Orange', 'Orange'), ('Purple', 'Green', 'Orange', 'Purple'), ('Purple', 'Green', 'Orange', 'Yellow'), ('Purple', 'Green', 'Purple', 'Red'), ('Purple', 'Green', 'Purple', 'Blue'), ('Purple', 'Green', 'Purple', 'Green'), ('Purple', 'Green', 'Purple', 'Orange'), ('Purple', 'Green', 'Purple', 'Purple'), ('Purple', 'Green', 'Purple', 'Yellow'), ('Purple', 'Green', 'Yellow', 'Red'), ('Purple', 'Green', 'Yellow', 'Blue'), ('Purple', 'Green', 'Yellow', 'Green'), ('Purple', 'Green', 'Yellow', 'Orange'), ('Purple', 'Green', 'Yellow', 'Purple'), ('Purple', 'Green', 'Yellow', 'Yellow'), ('Purple', 'Orange', 'Red', 'Red'), ('Purple', 'Orange', 'Red', 'Blue'), ('Purple', 'Orange', 'Red', 'Green'), ('Purple', 'Orange', 'Red', 'Orange'), ('Purple', 'Orange', 'Red', 'Purple'), ('Purple', 'Orange', 'Red', 'Yellow'), ('Purple', 'Orange', 'Blue', 'Red'), ('Purple', 'Orange', 'Blue', 'Blue'), ('Purple', 'Orange', 'Blue', 'Green'), ('Purple', 'Orange', 'Blue', 'Orange'), ('Purple', 'Orange', 'Blue', 'Purple'), ('Purple', 'Orange', 'Blue', 'Yellow'), ('Purple', 'Orange', 'Green', 'Red'), ('Purple', 'Orange', 'Green', 'Blue'), ('Purple', 'Orange', 'Green', 'Green'), ('Purple', 'Orange', 'Green', 'Orange'), ('Purple', 'Orange', 'Green', 'Purple'), ('Purple', 'Orange', 'Green', 'Yellow'), ('Purple', 'Orange', 'Orange', 'Red'), ('Purple', 'Orange', 'Orange', 'Blue'), ('Purple', 'Orange', 'Orange', 'Green'), ('Purple', 'Orange', 'Orange', 'Orange'), ('Purple', 'Orange', 'Orange', 'Purple'), ('Purple', 'Orange', 'Orange', 'Yellow'), ('Purple', 'Orange', 'Purple', 'Red'), ('Purple', 'Orange', 'Purple', 'Blue'), ('Purple', 'Orange', 'Purple', 'Green'), ('Purple', 'Orange', 'Purple', 'Orange'), ('Purple', 'Orange', 'Purple', 'Purple'), ('Purple', 'Orange', 'Purple', 'Yellow'), ('Purple', 'Orange', 'Yellow', 'Red'), ('Purple', 'Orange', 'Yellow', 'Blue'), ('Purple', 'Orange', 'Yellow', 'Green'), ('Purple', 'Orange', 'Yellow', 'Orange'), ('Purple', 'Orange', 'Yellow', 'Purple'), ('Purple', 'Orange', 'Yellow', 'Yellow'), ('Purple', 'Purple', 'Red', 'Red'), ('Purple', 'Purple', 'Red', 'Blue'), ('Purple', 'Purple', 'Red', 'Green'), ('Purple', 'Purple', 'Red', 'Orange'), ('Purple', 'Purple', 'Red', 'Purple'), ('Purple', 'Purple', 'Red', 'Yellow'), ('Purple', 'Purple', 'Blue', 'Red'), ('Purple', 'Purple', 'Blue', 'Blue'), ('Purple', 'Purple', 'Blue', 'Green'), ('Purple', 'Purple', 'Blue', 'Orange'), ('Purple', 'Purple', 'Blue', 'Purple'), ('Purple', 'Purple', 'Blue', 'Yellow'), ('Purple', 'Purple', 'Green', 'Red'), ('Purple', 'Purple', 'Green', 'Blue'), ('Purple', 'Purple', 'Green', 'Green'), ('Purple', 'Purple', 'Green', 'Orange'), ('Purple', 'Purple', 'Green', 'Purple'), ('Purple', 'Purple', 'Green', 'Yellow'), ('Purple', 'Purple', 'Orange', 'Red'), ('Purple', 'Purple', 'Orange', 'Blue'), ('Purple', 'Purple', 'Orange', 'Green'), ('Purple', 'Purple', 'Orange', 'Orange'), ('Purple', 'Purple', 'Orange', 'Purple'), ('Purple', 'Purple', 'Orange', 'Yellow'), ('Purple', 'Purple', 'Purple', 'Red'), ('Purple', 'Purple', 'Purple', 'Blue'), ('Purple', 'Purple', 'Purple', 'Green'), ('Purple', 'Purple', 'Purple', 'Orange'), ('Purple', 'Purple', 'Purple', 'Purple'), ('Purple', 'Purple', 'Purple', 'Yellow'), ('Purple', 'Purple', 'Yellow', 'Red'), ('Purple', 'Purple', 'Yellow', 'Blue'), ('Purple', 'Purple', 'Yellow', 'Green'), ('Purple', 'Purple', 'Yellow', 'Orange'), ('Purple', 'Purple', 'Yellow', 'Purple'), ('Purple', 'Purple', 'Yellow', 'Yellow'), ('Purple', 'Yellow', 'Red', 'Red'), ('Purple', 'Yellow', 'Red', 'Blue'), ('Purple', 'Yellow', 'Red', 'Green'), ('Purple', 'Yellow', 'Red', 'Orange'), ('Purple', 'Yellow', 'Red', 'Purple'), ('Purple', 'Yellow', 'Red', 'Yellow'), ('Purple', 'Yellow', 'Blue', 'Red'), ('Purple', 'Yellow', 'Blue', 'Blue'), ('Purple', 'Yellow', 'Blue', 'Green'), ('Purple', 'Yellow', 'Blue', 'Orange'), ('Purple', 'Yellow', 'Blue', 'Purple'), ('Purple', 'Yellow', 'Blue', 'Yellow'), ('Purple', 'Yellow', 'Green', 'Red'), ('Purple', 'Yellow', 'Green', 'Blue'), ('Purple', 'Yellow', 'Green', 'Green'), ('Purple', 'Yellow', 'Green', 'Orange'), ('Purple', 'Yellow', 'Green', 'Purple'), ('Purple', 'Yellow', 'Green', 'Yellow'), ('Purple', 'Yellow', 'Orange', 'Red'), ('Purple', 'Yellow', 'Orange', 'Blue'), ('Purple', 'Yellow', 'Orange', 'Green'), ('Purple', 'Yellow', 'Orange', 'Orange'), ('Purple', 'Yellow', 'Orange', 'Purple'), ('Purple', 'Yellow', 'Orange', 'Yellow'), ('Purple', 'Yellow', 'Purple', 'Red'), ('Purple', 'Yellow', 'Purple', 'Blue'), ('Purple', 'Yellow', 'Purple', 'Green'), ('Purple', 'Yellow', 'Purple', 'Orange'), ('Purple', 'Yellow', 'Purple', 'Purple'), ('Purple', 'Yellow', 'Purple', 'Yellow'), ('Purple', 'Yellow', 'Yellow', 'Red'), ('Purple', 'Yellow', 'Yellow', 'Blue'), ('Purple', 'Yellow', 'Yellow', 'Green'), ('Purple', 'Yellow', 'Yellow', 'Orange'), ('Purple', 'Yellow', 'Yellow', 'Purple'), ('Purple', 'Yellow', 'Yellow', 'Yellow'), ('Yellow', 'Red', 'Red', 'Red'), ('Yellow', 'Red', 'Red', 'Blue'), ('Yellow', 'Red', 'Red', 'Green'), ('Yellow', 'Red', 'Red', 'Orange'), ('Yellow', 'Red', 'Red', 'Purple'), ('Yellow', 'Red', 'Red', 'Yellow'), ('Yellow', 'Red', 'Blue', 'Red'), ('Yellow', 'Red', 'Blue', 'Blue'), ('Yellow', 'Red', 'Blue', 'Green'), ('Yellow', 'Red', 'Blue', 'Orange'), ('Yellow', 'Red', 'Blue', 'Purple'), ('Yellow', 'Red', 'Blue', 'Yellow'), ('Yellow', 'Red', 'Green', 'Red'), ('Yellow', 'Red', 'Green', 'Blue'), ('Yellow', 'Red', 'Green', 'Green'), ('Yellow', 'Red', 'Green', 'Orange'), ('Yellow', 'Red', 'Green', 'Purple'), ('Yellow', 'Red', 'Green', 'Yellow'), ('Yellow', 'Red', 'Orange', 'Red'), ('Yellow', 'Red', 'Orange', 'Blue'), ('Yellow', 'Red', 'Orange', 'Green'), ('Yellow', 'Red', 'Orange', 'Orange'), ('Yellow', 'Red', 'Orange', 'Purple'), ('Yellow', 'Red', 'Orange', 'Yellow'), ('Yellow', 'Red', 'Purple', 'Red'), ('Yellow', 'Red', 'Purple', 'Blue'), ('Yellow', 'Red', 'Purple', 'Green'), ('Yellow', 'Red', 'Purple', 'Orange'), ('Yellow', 'Red', 'Purple', 'Purple'), ('Yellow', 'Red', 'Purple', 'Yellow'), ('Yellow', 'Red', 'Yellow', 'Red'), ('Yellow', 'Red', 'Yellow', 'Blue'), ('Yellow', 'Red', 'Yellow', 'Green'), ('Yellow', 'Red', 'Yellow', 'Orange'), ('Yellow', 'Red', 'Yellow', 'Purple'), ('Yellow', 'Red', 'Yellow', 'Yellow'), ('Yellow', 'Blue', 'Red', 'Red'), ('Yellow', 'Blue', 'Red', 'Blue'), ('Yellow', 'Blue', 'Red', 'Green'), ('Yellow', 'Blue', 'Red', 'Orange'), ('Yellow', 'Blue', 'Red', 'Purple'), ('Yellow', 'Blue', 'Red', 'Yellow'), ('Yellow', 'Blue', 'Blue', 'Red'), ('Yellow', 'Blue', 'Blue', 'Blue'), ('Yellow', 'Blue', 'Blue', 'Green'), ('Yellow', 'Blue', 'Blue', 'Orange'), ('Yellow', 'Blue', 'Blue', 'Purple'), ('Yellow', 'Blue', 'Blue', 'Yellow'), ('Yellow', 'Blue', 'Green', 'Red'), ('Yellow', 'Blue', 'Green', 'Blue'), ('Yellow', 'Blue', 'Green', 'Green'), ('Yellow', 'Blue', 'Green', 'Orange'), ('Yellow', 'Blue', 'Green', 'Purple'), ('Yellow', 'Blue', 'Green', 'Yellow'), ('Yellow', 'Blue', 'Orange', 'Red'), ('Yellow', 'Blue', 'Orange', 'Blue'), ('Yellow', 'Blue', 'Orange', 'Green'), ('Yellow', 'Blue', 'Orange', 'Orange'), ('Yellow', 'Blue', 'Orange', 'Purple'), ('Yellow', 'Blue', 'Orange', 'Yellow'), ('Yellow', 'Blue', 'Purple', 'Red'), ('Yellow', 'Blue', 'Purple', 'Blue'), ('Yellow', 'Blue', 'Purple', 'Green'), ('Yellow', 'Blue', 'Purple', 'Orange'), ('Yellow', 'Blue', 'Purple', 'Purple'), ('Yellow', 'Blue', 'Purple', 'Yellow'), ('Yellow', 'Blue', 'Yellow', 'Red'), ('Yellow', 'Blue', 'Yellow', 'Blue'), ('Yellow', 'Blue', 'Yellow', 'Green'), ('Yellow', 'Blue', 'Yellow', 'Orange'), ('Yellow', 'Blue', 'Yellow', 'Purple'), ('Yellow', 'Blue', 'Yellow', 'Yellow'), ('Yellow', 'Green', 'Red', 'Red'), ('Yellow', 'Green', 'Red', 'Blue'), ('Yellow', 'Green', 'Red', 'Green'), ('Yellow', 'Green', 'Red', 'Orange'), ('Yellow', 'Green', 'Red', 'Purple'), ('Yellow', 'Green', 'Red', 'Yellow'), ('Yellow', 'Green', 'Blue', 'Red'), ('Yellow', 'Green', 'Blue', 'Blue'), ('Yellow', 'Green', 'Blue', 'Green'), ('Yellow', 'Green', 'Blue', 'Orange'), ('Yellow', 'Green', 'Blue', 'Purple'), ('Yellow', 'Green', 'Blue', 'Yellow'), ('Yellow', 'Green', 'Green', 'Red'), ('Yellow', 'Green', 'Green', 'Blue'), ('Yellow', 'Green', 'Green', 'Green'), ('Yellow', 'Green', 'Green', 'Orange'), ('Yellow', 'Green', 'Green', 'Purple'), ('Yellow', 'Green', 'Green', 'Yellow'), ('Yellow', 'Green', 'Orange', 'Red'), ('Yellow', 'Green', 'Orange', 'Blue'), ('Yellow', 'Green', 'Orange', 'Green'), ('Yellow', 'Green', 'Orange', 'Orange'), ('Yellow', 'Green', 'Orange', 'Purple'), ('Yellow', 'Green', 'Orange', 'Yellow'), ('Yellow', 'Green', 'Purple', 'Red'), ('Yellow', 'Green', 'Purple', 'Blue'), ('Yellow', 'Green', 'Purple', 'Green'), ('Yellow', 'Green', 'Purple', 'Orange'), ('Yellow', 'Green', 'Purple', 'Purple'), ('Yellow', 'Green', 'Purple', 'Yellow'), ('Yellow', 'Green', 'Yellow', 'Red'), ('Yellow', 'Green', 'Yellow', 'Blue'), ('Yellow', 'Green', 'Yellow', 'Green'), ('Yellow', 'Green', 'Yellow', 'Orange'), ('Yellow', 'Green', 'Yellow', 'Purple'), ('Yellow', 'Green', 'Yellow', 'Yellow'), ('Yellow', 'Orange', 'Red', 'Red'), ('Yellow', 'Orange', 'Red', 'Blue'), ('Yellow', 'Orange', 'Red', 'Green'), ('Yellow', 'Orange', 'Red', 'Orange'), ('Yellow', 'Orange', 'Red', 'Purple'), ('Yellow', 'Orange', 'Red', 'Yellow'), ('Yellow', 'Orange', 'Blue', 'Red'), ('Yellow', 'Orange', 'Blue', 'Blue'), ('Yellow', 'Orange', 'Blue', 'Green'), ('Yellow', 'Orange', 'Blue', 'Orange'), ('Yellow', 'Orange', 'Blue', 'Purple'), ('Yellow', 'Orange', 'Blue', 'Yellow'), ('Yellow', 'Orange', 'Green', 'Red'), ('Yellow', 'Orange', 'Green', 'Blue'), ('Yellow', 'Orange', 'Green', 'Green'), ('Yellow', 'Orange', 'Green', 'Orange'), ('Yellow', 'Orange', 'Green', 'Purple'), ('Yellow', 'Orange', 'Green', 'Yellow'), ('Yellow', 'Orange', 'Orange', 'Red'), ('Yellow', 'Orange', 'Orange', 'Blue'), ('Yellow', 'Orange', 'Orange', 'Green'), ('Yellow', 'Orange', 'Orange', 'Orange'), ('Yellow', 'Orange', 'Orange', 'Purple'), ('Yellow', 'Orange', 'Orange', 'Yellow'), ('Yellow', 'Orange', 'Purple', 'Red'), ('Yellow', 'Orange', 'Purple', 'Blue'), ('Yellow', 'Orange', 'Purple', 'Green'), ('Yellow', 'Orange', 'Purple', 'Orange'), ('Yellow', 'Orange', 'Purple', 'Purple'), ('Yellow', 'Orange', 'Purple', 'Yellow'), ('Yellow', 'Orange', 'Yellow', 'Red'), ('Yellow', 'Orange', 'Yellow', 'Blue'), ('Yellow', 'Orange', 'Yellow', 'Green'), ('Yellow', 'Orange', 'Yellow', 'Orange'), ('Yellow', 'Orange', 'Yellow', 'Purple'), ('Yellow', 'Orange', 'Yellow', 'Yellow'), ('Yellow', 'Purple', 'Red', 'Red'), ('Yellow', 'Purple', 'Red', 'Blue'), ('Yellow', 'Purple', 'Red', 'Green'), ('Yellow', 'Purple', 'Red', 'Orange'), ('Yellow', 'Purple', 'Red', 'Purple'), ('Yellow', 'Purple', 'Red', 'Yellow'), ('Yellow', 'Purple', 'Blue', 'Red'), ('Yellow', 'Purple', 'Blue', 'Blue'), ('Yellow', 'Purple', 'Blue', 'Green'), ('Yellow', 'Purple', 'Blue', 'Orange'), ('Yellow', 'Purple', 'Blue', 'Purple'), ('Yellow', 'Purple', 'Blue', 'Yellow'), ('Yellow', 'Purple', 'Green', 'Red'), ('Yellow', 'Purple', 'Green', 'Blue'), ('Yellow', 'Purple', 'Green', 'Green'), ('Yellow', 'Purple', 'Green', 'Orange'), ('Yellow', 'Purple', 'Green', 'Purple'), ('Yellow', 'Purple', 'Green', 'Yellow'), ('Yellow', 'Purple', 'Orange', 'Red'), ('Yellow', 'Purple', 'Orange', 'Blue'), ('Yellow', 'Purple', 'Orange', 'Green'), ('Yellow', 'Purple', 'Orange', 'Orange'), ('Yellow', 'Purple', 'Orange', 'Purple'), ('Yellow', 'Purple', 'Orange', 'Yellow'), ('Yellow', 'Purple', 'Purple', 'Red'), ('Yellow', 'Purple', 'Purple', 'Blue'), ('Yellow', 'Purple', 'Purple', 'Green'), ('Yellow', 'Purple', 'Purple', 'Orange'), ('Yellow', 'Purple', 'Purple', 'Purple'), ('Yellow', 'Purple', 'Purple', 'Yellow'), ('Yellow', 'Purple', 'Yellow', 'Red'), ('Yellow', 'Purple', 'Yellow', 'Blue'), ('Yellow', 'Purple', 'Yellow', 'Green'), ('Yellow', 'Purple', 'Yellow', 'Orange'), ('Yellow', 'Purple', 'Yellow', 'Purple'), ('Yellow', 'Purple', 'Yellow', 'Yellow'), ('Yellow', 'Yellow', 'Red', 'Red'), ('Yellow', 'Yellow', 'Red', 'Blue'), ('Yellow', 'Yellow', 'Red', 'Green'), ('Yellow', 'Yellow', 'Red', 'Orange'), ('Yellow', 'Yellow', 'Red', 'Purple'), ('Yellow', 'Yellow', 'Red', 'Yellow'), ('Yellow', 'Yellow', 'Blue', 'Red'), ('Yellow', 'Yellow', 'Blue', 'Blue'), ('Yellow', 'Yellow', 'Blue', 'Green'), ('Yellow', 'Yellow', 'Blue', 'Orange'), ('Yellow', 'Yellow', 'Blue', 'Purple'), ('Yellow', 'Yellow', 'Blue', 'Yellow'), ('Yellow', 'Yellow', 'Green', 'Red'), ('Yellow', 'Yellow', 'Green', 'Blue'), ('Yellow', 'Yellow', 'Green', 'Green'), ('Yellow', 'Yellow', 'Green', 'Orange'), ('Yellow', 'Yellow', 'Green', 'Purple'), ('Yellow', 'Yellow', 'Green', 'Yellow'), ('Yellow', 'Yellow', 'Orange', 'Red'), ('Yellow', 'Yellow', 'Orange', 'Blue'), ('Yellow', 'Yellow', 'Orange', 'Green'), ('Yellow', 'Yellow', 'Orange', 'Orange'), ('Yellow', 'Yellow', 'Orange', 'Purple'), ('Yellow', 'Yellow', 'Orange', 'Yellow'), ('Yellow', 'Yellow', 'Purple', 'Red'), ('Yellow', 'Yellow', 'Purple', 'Blue'), ('Yellow', 'Yellow', 'Purple', 'Green'), ('Yellow', 'Yellow', 'Purple', 'Orange'), ('Yellow', 'Yellow', 'Purple', 'Purple'), ('Yellow', 'Yellow', 'Purple', 'Yellow'), ('Yellow', 'Yellow', 'Yellow', 'Red'), ('Yellow', 'Yellow', 'Yellow', 'Blue'), ('Yellow', 'Yellow', 'Yellow', 'Green'), ('Yellow', 'Yellow', 'Yellow', 'Orange'), ('Yellow', 'Yellow', 'Yellow', 'Purple'), ('Yellow', 'Yellow', 'Yellow', 'Yellow')]\n"
     ]
    }
   ],
   "source": [
    "print([i for i in itertools.product(colors, repeat = 4)])"
   ]
  }
 ],
 "metadata": {
  "kernelspec": {
   "display_name": "Python 3",
   "language": "python",
   "name": "python3"
  },
  "language_info": {
   "codemirror_mode": {
    "name": "ipython",
    "version": 3
   },
   "file_extension": ".py",
   "mimetype": "text/x-python",
   "name": "python",
   "nbconvert_exporter": "python",
   "pygments_lexer": "ipython3",
   "version": "3.7.1"
  }
 },
 "nbformat": 4,
 "nbformat_minor": 2
}
