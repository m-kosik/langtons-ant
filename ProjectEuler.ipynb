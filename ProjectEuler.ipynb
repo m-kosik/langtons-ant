{
 "cells": [
  {
   "cell_type": "code",
   "execution_count": 14,
   "metadata": {},
   "outputs": [
    {
     "name": "stdout",
     "output_type": "stream",
     "text": [
      "4613732\n"
     ]
    }
   ],
   "source": [
    "''' Problem 2 - By considering the terms in the Fibonacci sequence \n",
    "whose values do not exceed four million, find the sum of the even-valued terms. '''\n",
    "\n",
    "n1 = 1\n",
    "n2 = 1\n",
    "def fib_add(a,b):\n",
    "    return b, a+b\n",
    "\n",
    "summing = 0\n",
    "while n2 < 4_000_000:\n",
    "    n1, n2 = fib_add(n1, n2)\n",
    "    if n2%2 == 0:\n",
    "        summing += n2\n",
    "print(summing)"
   ]
  },
  {
   "cell_type": "code",
   "execution_count": 79,
   "metadata": {},
   "outputs": [
    {
     "name": "stdout",
     "output_type": "stream",
     "text": [
      "[71, 839, 1471, 6857]\n"
     ]
    }
   ],
   "source": [
    "''' Problem 3 \n",
    "What is the largest prime factor of the number 600851475143? '''\n",
    "\n",
    "import numpy as np\n",
    "def is_prime(num):\n",
    "    for i in range(2, num):\n",
    "        if num%i == 0:\n",
    "            return False\n",
    "    else:\n",
    "        return True\n",
    "    \n",
    "\n",
    "def factorize(num):\n",
    "    factors = []\n",
    "    i = 2\n",
    "    while i < num+1: \n",
    "        if num % i == 0:\n",
    "            factors.append(i)\n",
    "            num = num / i\n",
    "        else:\n",
    "            i+=1\n",
    "    return factors\n",
    "\n",
    "\n",
    "number = 600851475143\n",
    "print(factorize(number))"
   ]
  },
  {
   "cell_type": "code",
   "execution_count": 88,
   "metadata": {},
   "outputs": [
    {
     "name": "stdout",
     "output_type": "stream",
     "text": [
      "998001\n",
      "906609\n"
     ]
    }
   ],
   "source": [
    "''' Problem 4: A palindromic number reads the same both ways. \n",
    "The largest palindrome made from the product of two 2-digit numbers is 9009 = 91 × 99.\n",
    "Find the largest palindrome made from the product of two 3-digit numbers. '''\n",
    "\n",
    "def product(dig1, dig2):\n",
    "    return dig1 * dig2\n",
    "\n",
    "all_three_digit_products = [product(i,j) for i in range(100,1000) for j in range(100,1000)]\n",
    "palindromes = [number for number in all_three_digit_products if str(number)[::-1] == str(number)]\n",
    "print(max(all_three_digit_products))\n",
    "print(max(palindromes))"
   ]
  }
 ],
 "metadata": {
  "kernelspec": {
   "display_name": "Python 3",
   "language": "python",
   "name": "python3"
  },
  "language_info": {
   "codemirror_mode": {
    "name": "ipython",
    "version": 3
   },
   "file_extension": ".py",
   "mimetype": "text/x-python",
   "name": "python",
   "nbconvert_exporter": "python",
   "pygments_lexer": "ipython3",
   "version": "3.8.5"
  }
 },
 "nbformat": 4,
 "nbformat_minor": 4
}
