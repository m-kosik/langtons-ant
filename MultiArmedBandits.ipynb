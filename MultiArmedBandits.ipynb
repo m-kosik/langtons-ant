{
 "cells": [
  {
   "cell_type": "code",
   "execution_count": 1,
   "metadata": {},
   "outputs": [],
   "source": [
    "import numpy as np\n",
    "import random\n",
    "\n",
    "class MultiArmedBandit(object):\n",
    "    '''Multi armed bandint game for RL challange.\n",
    "    \n",
    "    Instance of this class represents single RL setup that agent needs to \n",
    "    face. \n",
    "    \n",
    "    Properties:\n",
    "        n_arms (int):\n",
    "            Number of arms (between 2 and 10).\n",
    "        n_trials (int):\n",
    "            Number of available arm pulls (between 10 and 500).\n",
    "        account (float):\n",
    "            Sum of all gathered and lost points. \n",
    "            \n",
    "    Methods:\n",
    "        pull(arm):\n",
    "            Return a reward for chosen arm. Reward is cached in the instance\n",
    "            and accesible as account property. Note that after performing \n",
    "            n_trials pulls, bandit gets exhausted and pull raises StopIteration\n",
    "            exception.\n",
    "            \n",
    "    How points are distributed? Each arm is instantiated with random mean and \n",
    "    standard deviation (both drawn from uniform distribution [0, 100]). Pulled \n",
    "    arm draws random reward from normal (Gaussian distribution) with preset \n",
    "    (but unknow to user) mean and standard deviation. \n",
    "    \n",
    "    Goal of the challange is to write algorithm that effectively chooses most\n",
    "    beneficial arms. Best algorithm will be the one with highest total money \n",
    "    collected for 1_000_000 experiments.\n",
    "    '''\n",
    "    \n",
    "    def __init__(self):\n",
    "        self._n_arms = random.randint(2, 10)\n",
    "        self._n_trials = random.randint(10, 500)\n",
    "        \n",
    "        self._payoff_mean = np.random.random((self._n_arms, )) * 100 \n",
    "        self._payoff_std = np.random.random((self._n_arms, )) * 100\n",
    "        \n",
    "        self._account = 0\n",
    "        self._current_trial = 0\n",
    "    \n",
    "    @property \n",
    "    def n_arms(self):\n",
    "        return self._n_arms\n",
    "    \n",
    "    @property \n",
    "    def n_trials(self):\n",
    "        return self._n_trials\n",
    "    \n",
    "    @property\n",
    "    def account(self):\n",
    "        return self._account \n",
    "    \n",
    "    def pull(self, arm):\n",
    "        if self._current_trial >= self._n_trials:\n",
    "            raise StopIteration('This bandit is already exhausted.')\n",
    "        else:\n",
    "            reward = np.random.normal(self._payoff_mean[arm], self._payoff_std[arm])\n",
    "            self._account += reward\n",
    "            self._current_trial += 1\n",
    "            return reward"
   ]
  },
  {
   "cell_type": "code",
   "execution_count": 2,
   "metadata": {},
   "outputs": [
    {
     "name": "stdout",
     "output_type": "stream",
     "text": [
      "The average reward with my method is 23421.18590065838.\n"
     ]
    }
   ],
   "source": [
    "''' A solution based on the standard deviation and mean value in the first few iterations '''\n",
    "\n",
    "my_results = []\n",
    "for i in range(100):\n",
    "    random.seed(3)\n",
    "    mab = MultiArmedBandit()\n",
    "    #print(f'Number of arms: {mab.n_arms}')\n",
    "    #print(f'Number of trials: {mab.n_trials}')\n",
    "    #print('......................................')\n",
    "\n",
    "    test_range = int(mab.n_trials/(10*mab.n_arms))\n",
    "    from statistics import mean, stdev\n",
    "\n",
    "    means = []\n",
    "    used_trials = mab.n_arms*test_range\n",
    "\n",
    "    for i in range(mab.n_arms):\n",
    "        current_list = [mab.pull(i) for j in range(test_range)]\n",
    "        if stdev(current_list) < np.mean(np.abs(current_list)):\n",
    "            # Good result: stdev(current_list) < np.mean(np.abs(current_list))\n",
    "            curr_mean = np.mean(np.abs(current_list))\n",
    "            means.append(curr_mean)\n",
    "        else:\n",
    "            # Bad result, try again (stdev(current_list) < np.mean(np.abs(current_list))).\n",
    "            current_list = current_list + [mab.pull(i) for j in range(test_range)]\n",
    "            curr_mean = np.mean(np.abs(current_list))\n",
    "            means.append(curr_mean)\n",
    "            used_trials = used_trials + test_range\n",
    "            \n",
    "    idx = means.index(max(means))\n",
    "    for _ in range(mab.n_trials-used_trials):\n",
    "        mab.pull(idx)\n",
    "    \n",
    "    #print(f'Total points gathered = {mab.account}')\n",
    "    my_results.append(mab.account)\n",
    "    #print('......................................')\n",
    "print(f'The average reward with my method is {np.mean(my_results)}.' )"
   ]
  },
  {
   "cell_type": "code",
   "execution_count": 3,
   "metadata": {},
   "outputs": [
    {
     "name": "stdout",
     "output_type": "stream",
     "text": [
      "The average reward when pulling randomly is 15823.839279220112.\n"
     ]
    }
   ],
   "source": [
    "''' Random choice of arms - for comparison '''\n",
    "random_results = []\n",
    "for i in range(100):\n",
    "    random.seed(3)\n",
    "    mab = MultiArmedBandit()\n",
    "    #print(f'Number of arms: {mab.n_arms}')\n",
    "    #print(f'Number of trials: {mab.n_trials}')\n",
    "    #print('Random pulling...')\n",
    "    for _ in range(mab.n_trials):\n",
    "        mab.pull(random.randint(0, mab.n_arms - 1))\n",
    "\n",
    "    #print(f'Total points gathered = {mab.account}')\n",
    "    random_results.append(mab.account)\n",
    "print(f'The average reward when pulling randomly is {np.mean(random_results)}.' )"
   ]
  },
  {
   "cell_type": "code",
   "execution_count": 4,
   "metadata": {},
   "outputs": [
    {
     "name": "stdout",
     "output_type": "stream",
     "text": [
      "This bandit is already exhausted.\n"
     ]
    }
   ],
   "source": [
    "# If all trials were used, bandit gets exhausted and StopIteration is raised\n",
    "try:\n",
    "    mab.pull(0)\n",
    "except StopIteration as ex:\n",
    "    print(ex)"
   ]
  }
 ],
 "metadata": {
  "kernelspec": {
   "display_name": "Python 3",
   "language": "python",
   "name": "python3"
  },
  "language_info": {
   "codemirror_mode": {
    "name": "ipython",
    "version": 3
   },
   "file_extension": ".py",
   "mimetype": "text/x-python",
   "name": "python",
   "nbconvert_exporter": "python",
   "pygments_lexer": "ipython3",
   "version": "3.8.5"
  }
 },
 "nbformat": 4,
 "nbformat_minor": 2
}
